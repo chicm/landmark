{
 "cells": [
  {
   "cell_type": "markdown",
   "metadata": {
    "_cell_guid": "ddf6b245-75fc-4f54-aa4b-be711b21870e",
    "_uuid": "a70f0d674af7c2bff498c88a2d7efb8e4fbf3c3a"
   },
   "source": [
    "![](https://www.listchallenges.com/f/lists/6c536c33-489b-4bee-b259-00074fa53a0d.jpg)"
   ]
  },
  {
   "cell_type": "markdown",
   "metadata": {
    "_uuid": "7b630dcd9a8cf72096bb19aecba7e536aaad5736"
   },
   "source": [
    "# More To Come. Stay Tuned. !!\n",
    "If there are any suggestions/changes you would like to see in the Kernel please let me know :). Appreciate every ounce of help!\n",
    "\n",
    "**This notebook will always be a work in progress**. Please leave any comments about further improvements to the notebook! Any feedback or constructive criticism is greatly appreciated!.** If you like it or it helps you , you can upvote and/or leave a comment :).**\n",
    "\n"
   ]
  },
  {
   "cell_type": "code",
   "execution_count": 65,
   "metadata": {
    "_uuid": "99bbaee9d299c659c3406c0254ad5c6cb0c32edc"
   },
   "outputs": [],
   "source": [
    "# This Python 3 environment comes with many helpful analytics libraries installed\n",
    "# It is defined by the kaggle/python docker image: https://github.com/kaggle/docker-python\n",
    "# For example, here's several helpful packages to load in \n",
    "\n",
    "import numpy as np # linear algebra\n",
    "import pandas as pd # data processing, CSV file I/O (e.g. pd.read_csv)\n",
    "import matplotlib.pyplot as plt\n",
    "import seaborn as sns\n",
    "%matplotlib inline "
   ]
  },
  {
   "cell_type": "markdown",
   "metadata": {
    "_cell_guid": "d9477a72-1c5a-4757-9133-fe01c349bbb3",
    "_uuid": "da04ec23114eeb4dafbcd6320078c46900a27841"
   },
   "source": [
    "# More is coming Soon"
   ]
  },
  {
   "cell_type": "code",
   "execution_count": 67,
   "metadata": {
    "_cell_guid": "dfb76559-6378-481d-b020-211426aadd26",
    "_uuid": "d7ff80730ceb6d5955f9e3aa912c36e834d204d4"
   },
   "outputs": [],
   "source": [
    "train_data = pd.read_csv('/mnt/chicm/data/landmark/train/train.csv')\n",
    "test_data = pd.read_csv('/mnt/chicm/data/landmark/test/test.csv')\n",
    "submission = pd.read_csv(\"/mnt/chicm/data/landmark/recognition_sample_submission.csv\")"
   ]
  },
  {
   "cell_type": "code",
   "execution_count": 69,
   "metadata": {
    "_cell_guid": "6962e319-ab33-4d25-ae7e-115f12404e2f",
    "_uuid": "444e66a220029230543b5504ff654ed021c9831c"
   },
   "outputs": [
    {
     "name": "stdout",
     "output_type": "stream",
     "text": [
      "Training data size (4132914, 3)\n",
      "test data size (117703, 2)\n",
      "submission data size (117703, 2)\n"
     ]
    }
   ],
   "source": [
    "print(\"Training data size\",train_data.shape)\n",
    "print(\"test data size\",test_data.shape)\n",
    "print(\"submission data size\",submission.shape)"
   ]
  },
  {
   "cell_type": "code",
   "execution_count": 79,
   "metadata": {},
   "outputs": [
    {
     "data": {
      "text/plain": [
       "0"
      ]
     },
     "execution_count": 79,
     "metadata": {},
     "output_type": "execute_result"
    }
   ],
   "source": [
    "len(set(test_data.id.unique().tolist()) - set(submission.id.unique().tolist()))"
   ]
  },
  {
   "cell_type": "code",
   "execution_count": 93,
   "metadata": {},
   "outputs": [
    {
     "data": {
      "text/plain": [
       "117703"
      ]
     },
     "execution_count": 93,
     "metadata": {},
     "output_type": "execute_result"
    }
   ],
   "source": [
    "len(set(test_data.id.unique().tolist()) - set(train_data.id.unique().tolist()))"
   ]
  },
  {
   "cell_type": "code",
   "execution_count": 81,
   "metadata": {},
   "outputs": [],
   "source": [
    "train_retrieval = pd.read_csv('/mnt/chicm/data/retrieval/train.csv')\n",
    "test_retrieval = pd.read_csv('/mnt/chicm/data/retrieval/test.csv')\n",
    "index = pd.read_csv(\"/mnt/chicm/data/retrieval/index.csv\")\n",
    "sub_retrieval = pd.read_csv(\"/mnt/chicm/data/retrieval/retrieval_sample_submission.csv\")"
   ]
  },
  {
   "cell_type": "code",
   "execution_count": 87,
   "metadata": {},
   "outputs": [
    {
     "data": {
      "text/plain": [
       "117703"
      ]
     },
     "execution_count": 87,
     "metadata": {},
     "output_type": "execute_result"
    }
   ],
   "source": [
    "len(set(test_retrieval.id.unique().tolist()) | set(sub_retrieval.id.unique().tolist()))"
   ]
  },
  {
   "cell_type": "code",
   "execution_count": 88,
   "metadata": {},
   "outputs": [
    {
     "data": {
      "text/plain": [
       "True"
      ]
     },
     "execution_count": 88,
     "metadata": {},
     "output_type": "execute_result"
    }
   ],
   "source": [
    "set(test_retrieval.id.unique().tolist()) == set(test_data.id.unique().tolist())"
   ]
  },
  {
   "cell_type": "code",
   "execution_count": 100,
   "metadata": {},
   "outputs": [
    {
     "name": "stdout",
     "output_type": "stream",
     "text": [
      "(1225029, 3) (117703, 2) (1098461, 2)\n"
     ]
    }
   ],
   "source": [
    "print(train_retrieval.shape, test_retrieval.shape, index.shape)"
   ]
  },
  {
   "cell_type": "code",
   "execution_count": 96,
   "metadata": {},
   "outputs": [
    {
     "data": {
      "text/plain": [
       "0"
      ]
     },
     "execution_count": 96,
     "metadata": {},
     "output_type": "execute_result"
    }
   ],
   "source": [
    "len(set(train_retrieval.id.unique().tolist()) & set(train_data.id.unique().tolist()))"
   ]
  },
  {
   "cell_type": "code",
   "execution_count": 97,
   "metadata": {},
   "outputs": [
    {
     "data": {
      "text/plain": [
       "0"
      ]
     },
     "execution_count": 97,
     "metadata": {},
     "output_type": "execute_result"
    }
   ],
   "source": [
    "len(set(train_retrieval.id.unique().tolist()) & set(test_retrieval.id.unique().tolist()))"
   ]
  },
  {
   "cell_type": "code",
   "execution_count": 101,
   "metadata": {},
   "outputs": [
    {
     "data": {
      "text/plain": [
       "0"
      ]
     },
     "execution_count": 101,
     "metadata": {},
     "output_type": "execute_result"
    }
   ],
   "source": [
    "len(set(train_retrieval.id.unique().tolist()) & set(index.id.unique().tolist()))"
   ]
  },
  {
   "cell_type": "code",
   "execution_count": 103,
   "metadata": {},
   "outputs": [
    {
     "data": {
      "text/plain": [
       "14952"
      ]
     },
     "execution_count": 103,
     "metadata": {},
     "output_type": "execute_result"
    }
   ],
   "source": [
    "len(train_retrieval.landmark_id.unique())"
   ]
  },
  {
   "cell_type": "code",
   "execution_count": 104,
   "metadata": {},
   "outputs": [],
   "source": [
    "import matplotlib.pyplot as plt\n",
    "%matplotlib inline\n",
    "from PIL import Image\n",
    "import numpy as np\n",
    "import pandas as pd\n",
    "import cv2"
   ]
  },
  {
   "cell_type": "code",
   "execution_count": null,
   "metadata": {},
   "outputs": [],
   "source": []
  },
  {
   "cell_type": "code",
   "execution_count": 5,
   "metadata": {
    "_cell_guid": "3db5848a-9908-4e4c-b2f1-54ca92bc87dc",
    "_uuid": "34e47d36489f424ba05b6ee1c82c894df492a808"
   },
   "outputs": [
    {
     "data": {
      "text/html": [
       "<div>\n",
       "<style scoped>\n",
       "    .dataframe tbody tr th:only-of-type {\n",
       "        vertical-align: middle;\n",
       "    }\n",
       "\n",
       "    .dataframe tbody tr th {\n",
       "        vertical-align: top;\n",
       "    }\n",
       "\n",
       "    .dataframe thead th {\n",
       "        text-align: right;\n",
       "    }\n",
       "</style>\n",
       "<table border=\"1\" class=\"dataframe\">\n",
       "  <thead>\n",
       "    <tr style=\"text-align: right;\">\n",
       "      <th></th>\n",
       "      <th>id</th>\n",
       "      <th>url</th>\n",
       "      <th>landmark_id</th>\n",
       "    </tr>\n",
       "  </thead>\n",
       "  <tbody>\n",
       "    <tr>\n",
       "      <th>0</th>\n",
       "      <td>6e158a47eb2ca3f6</td>\n",
       "      <td>https://upload.wikimedia.org/wikipedia/commons...</td>\n",
       "      <td>142820</td>\n",
       "    </tr>\n",
       "    <tr>\n",
       "      <th>1</th>\n",
       "      <td>202cd79556f30760</td>\n",
       "      <td>http://upload.wikimedia.org/wikipedia/commons/...</td>\n",
       "      <td>104169</td>\n",
       "    </tr>\n",
       "    <tr>\n",
       "      <th>2</th>\n",
       "      <td>3ad87684c99c06e1</td>\n",
       "      <td>http://upload.wikimedia.org/wikipedia/commons/...</td>\n",
       "      <td>37914</td>\n",
       "    </tr>\n",
       "    <tr>\n",
       "      <th>3</th>\n",
       "      <td>e7f70e9c61e66af3</td>\n",
       "      <td>https://upload.wikimedia.org/wikipedia/commons...</td>\n",
       "      <td>102140</td>\n",
       "    </tr>\n",
       "    <tr>\n",
       "      <th>4</th>\n",
       "      <td>4072182eddd0100e</td>\n",
       "      <td>https://upload.wikimedia.org/wikipedia/commons...</td>\n",
       "      <td>2474</td>\n",
       "    </tr>\n",
       "  </tbody>\n",
       "</table>\n",
       "</div>"
      ],
      "text/plain": [
       "                 id                                                url  \\\n",
       "0  6e158a47eb2ca3f6  https://upload.wikimedia.org/wikipedia/commons...   \n",
       "1  202cd79556f30760  http://upload.wikimedia.org/wikipedia/commons/...   \n",
       "2  3ad87684c99c06e1  http://upload.wikimedia.org/wikipedia/commons/...   \n",
       "3  e7f70e9c61e66af3  https://upload.wikimedia.org/wikipedia/commons...   \n",
       "4  4072182eddd0100e  https://upload.wikimedia.org/wikipedia/commons...   \n",
       "\n",
       "   landmark_id  \n",
       "0       142820  \n",
       "1       104169  \n",
       "2        37914  \n",
       "3       102140  \n",
       "4         2474  "
      ]
     },
     "execution_count": 5,
     "metadata": {},
     "output_type": "execute_result"
    }
   ],
   "source": [
    "train_data.head()"
   ]
  },
  {
   "cell_type": "code",
   "execution_count": 6,
   "metadata": {
    "_cell_guid": "750de8f5-77be-4ac1-9019-7c64798f652e",
    "_uuid": "1b36c7ea99bbefd9ec70da7f02f363052b64c9e4"
   },
   "outputs": [
    {
     "data": {
      "text/html": [
       "<div>\n",
       "<style scoped>\n",
       "    .dataframe tbody tr th:only-of-type {\n",
       "        vertical-align: middle;\n",
       "    }\n",
       "\n",
       "    .dataframe tbody tr th {\n",
       "        vertical-align: top;\n",
       "    }\n",
       "\n",
       "    .dataframe thead th {\n",
       "        text-align: right;\n",
       "    }\n",
       "</style>\n",
       "<table border=\"1\" class=\"dataframe\">\n",
       "  <thead>\n",
       "    <tr style=\"text-align: right;\">\n",
       "      <th></th>\n",
       "      <th>id</th>\n",
       "      <th>url</th>\n",
       "    </tr>\n",
       "  </thead>\n",
       "  <tbody>\n",
       "    <tr>\n",
       "      <th>0</th>\n",
       "      <td>cb9998b8cdaf6235</td>\n",
       "      <td>https://lh3.googleusercontent.com/-q8B91vDIQZY...</td>\n",
       "    </tr>\n",
       "    <tr>\n",
       "      <th>1</th>\n",
       "      <td>30728cf6e50a6bc6</td>\n",
       "      <td>https://lh3.googleusercontent.com/-91gJSKTgv5Q...</td>\n",
       "    </tr>\n",
       "    <tr>\n",
       "      <th>2</th>\n",
       "      <td>16afbc86b710337d</td>\n",
       "      <td>https://lh3.googleusercontent.com/-GHZdXuf2wMg...</td>\n",
       "    </tr>\n",
       "    <tr>\n",
       "      <th>3</th>\n",
       "      <td>d29b2166cf522450</td>\n",
       "      <td>https://lh3.googleusercontent.com/-cWDnYNQhyws...</td>\n",
       "    </tr>\n",
       "    <tr>\n",
       "      <th>4</th>\n",
       "      <td>dd5c03b20c21cfba</td>\n",
       "      <td>https://lh3.googleusercontent.com/-PSLN6BloM-k...</td>\n",
       "    </tr>\n",
       "  </tbody>\n",
       "</table>\n",
       "</div>"
      ],
      "text/plain": [
       "                 id                                                url\n",
       "0  cb9998b8cdaf6235  https://lh3.googleusercontent.com/-q8B91vDIQZY...\n",
       "1  30728cf6e50a6bc6  https://lh3.googleusercontent.com/-91gJSKTgv5Q...\n",
       "2  16afbc86b710337d  https://lh3.googleusercontent.com/-GHZdXuf2wMg...\n",
       "3  d29b2166cf522450  https://lh3.googleusercontent.com/-cWDnYNQhyws...\n",
       "4  dd5c03b20c21cfba  https://lh3.googleusercontent.com/-PSLN6BloM-k..."
      ]
     },
     "execution_count": 6,
     "metadata": {},
     "output_type": "execute_result"
    }
   ],
   "source": [
    "test_data.head()"
   ]
  },
  {
   "cell_type": "code",
   "execution_count": 7,
   "metadata": {
    "_cell_guid": "fe7d8e74-8f39-495b-bf80-f37938e81cfb",
    "_uuid": "fe2f33a910ec28188d208c1e9323a10990ff04de"
   },
   "outputs": [
    {
     "name": "stdout",
     "output_type": "stream",
     "text": [
      "id 3c1138a4a5369aca\n",
      "url: http://upload.wikimedia.org/wikipedia/commons/7/7f/Interieur%2C_terug_gevonden_fragment_figuratief_reli%C3%ABf_-_Breda_-_20362006_-_RCE.jpg\n",
      "landmark id: 51856\n"
     ]
    }
   ],
   "source": [
    "# now open the URL\n",
    "temp = 4444\n",
    "print('id', train_data['id'][temp])\n",
    "print('url:', train_data['url'][temp])\n",
    "print('landmark id:', train_data['landmark_id'][temp])"
   ]
  },
  {
   "cell_type": "code",
   "execution_count": 8,
   "metadata": {
    "_cell_guid": "05f07b99-e04b-483a-86fd-418001d721a2",
    "_uuid": "495d65d7b58969249284618aa48b655c37b6e4d4"
   },
   "outputs": [
    {
     "data": {
      "text/plain": [
       "<matplotlib.axes._subplots.AxesSubplot at 0x7f0328df0470>"
      ]
     },
     "execution_count": 8,
     "metadata": {},
     "output_type": "execute_result"
    },
    {
     "data": {
      "image/png": "[encoded data removed]",
      "text/plain": [
       "<Figure size 432x288 with 1 Axes>"
      ]
     },
     "metadata": {
      "needs_background": "light"
     },
     "output_type": "display_data"
    }
   ],
   "source": [
    "train_data['landmark_id'].value_counts().hist()"
   ]
  },
  {
   "cell_type": "code",
   "execution_count": 9,
   "metadata": {
    "_cell_guid": "aef1e276-548b-4a05-bb93-381dd8b13142",
    "_uuid": "92855b6a20e1de24ee4c0786cb78542a81c1f0e7"
   },
   "outputs": [
    {
     "data": {
      "text/html": [
       "<div>\n",
       "<style scoped>\n",
       "    .dataframe tbody tr th:only-of-type {\n",
       "        vertical-align: middle;\n",
       "    }\n",
       "\n",
       "    .dataframe tbody tr th {\n",
       "        vertical-align: top;\n",
       "    }\n",
       "\n",
       "    .dataframe thead th {\n",
       "        text-align: right;\n",
       "    }\n",
       "</style>\n",
       "<table border=\"1\" class=\"dataframe\">\n",
       "  <thead>\n",
       "    <tr style=\"text-align: right;\">\n",
       "      <th></th>\n",
       "      <th>Total</th>\n",
       "      <th>Percent</th>\n",
       "    </tr>\n",
       "  </thead>\n",
       "  <tbody>\n",
       "    <tr>\n",
       "      <th>landmark_id</th>\n",
       "      <td>0</td>\n",
       "      <td>0.0</td>\n",
       "    </tr>\n",
       "    <tr>\n",
       "      <th>url</th>\n",
       "      <td>0</td>\n",
       "      <td>0.0</td>\n",
       "    </tr>\n",
       "    <tr>\n",
       "      <th>id</th>\n",
       "      <td>0</td>\n",
       "      <td>0.0</td>\n",
       "    </tr>\n",
       "  </tbody>\n",
       "</table>\n",
       "</div>"
      ],
      "text/plain": [
       "             Total  Percent\n",
       "landmark_id      0      0.0\n",
       "url              0      0.0\n",
       "id               0      0.0"
      ]
     },
     "execution_count": 9,
     "metadata": {},
     "output_type": "execute_result"
    }
   ],
   "source": [
    "# missing data in training data \n",
    "total = train_data.isnull().sum().sort_values(ascending = False)\n",
    "percent = (train_data.isnull().sum()/train_data.isnull().count()).sort_values(ascending = False)\n",
    "missing_train_data = pd.concat([total, percent], axis=1, keys=['Total', 'Percent'])\n",
    "missing_train_data.head()"
   ]
  },
  {
   "cell_type": "code",
   "execution_count": 10,
   "metadata": {
    "_cell_guid": "50aa5154-a2c8-43be-9c6f-b6a41c107008",
    "_uuid": "0bd1634b846376e2111900b13d9653ec846d16b2"
   },
   "outputs": [
    {
     "data": {
      "text/html": [
       "<div>\n",
       "<style scoped>\n",
       "    .dataframe tbody tr th:only-of-type {\n",
       "        vertical-align: middle;\n",
       "    }\n",
       "\n",
       "    .dataframe tbody tr th {\n",
       "        vertical-align: top;\n",
       "    }\n",
       "\n",
       "    .dataframe thead th {\n",
       "        text-align: right;\n",
       "    }\n",
       "</style>\n",
       "<table border=\"1\" class=\"dataframe\">\n",
       "  <thead>\n",
       "    <tr style=\"text-align: right;\">\n",
       "      <th></th>\n",
       "      <th>Total</th>\n",
       "      <th>Percent</th>\n",
       "    </tr>\n",
       "  </thead>\n",
       "  <tbody>\n",
       "    <tr>\n",
       "      <th>url</th>\n",
       "      <td>0</td>\n",
       "      <td>0.0</td>\n",
       "    </tr>\n",
       "    <tr>\n",
       "      <th>id</th>\n",
       "      <td>0</td>\n",
       "      <td>0.0</td>\n",
       "    </tr>\n",
       "  </tbody>\n",
       "</table>\n",
       "</div>"
      ],
      "text/plain": [
       "     Total  Percent\n",
       "url      0      0.0\n",
       "id       0      0.0"
      ]
     },
     "execution_count": 10,
     "metadata": {},
     "output_type": "execute_result"
    }
   ],
   "source": [
    "# missing data in test data \n",
    "total = test_data.isnull().sum().sort_values(ascending = False)\n",
    "percent = (test_data.isnull().sum()/test_data.isnull().count()).sort_values(ascending = False)\n",
    "missing_test_data = pd.concat([total, percent], axis=1, keys=['Total', 'Percent'])\n",
    "missing_test_data.head()"
   ]
  },
  {
   "cell_type": "markdown",
   "metadata": {
    "_cell_guid": "c495f1f0-1dac-401f-bb12-df07c3fc4436",
    "_uuid": "50dae4816452a5945d289863d27cdf8e73d1b620"
   },
   "source": [
    "## We can see there is no missing data\n",
    "## Now Lets see most frequent Landmarks"
   ]
  },
  {
   "cell_type": "code",
   "execution_count": 11,
   "metadata": {
    "_cell_guid": "c3a7ef6d-c862-413e-af33-49a36b1a5895",
    "_uuid": "ae8cf994baae0b92fe1ca590f36491717ca2399a",
    "scrolled": true
   },
   "outputs": [
    {
     "data": {
      "text/html": [
       "<div>\n",
       "<style scoped>\n",
       "    .dataframe tbody tr th:only-of-type {\n",
       "        vertical-align: middle;\n",
       "    }\n",
       "\n",
       "    .dataframe tbody tr th {\n",
       "        vertical-align: top;\n",
       "    }\n",
       "\n",
       "    .dataframe thead th {\n",
       "        text-align: right;\n",
       "    }\n",
       "</style>\n",
       "<table border=\"1\" class=\"dataframe\">\n",
       "  <thead>\n",
       "    <tr style=\"text-align: right;\">\n",
       "      <th></th>\n",
       "      <th>landmark_id</th>\n",
       "      <th>count</th>\n",
       "    </tr>\n",
       "  </thead>\n",
       "  <tbody>\n",
       "    <tr>\n",
       "      <th>0</th>\n",
       "      <td>138982</td>\n",
       "      <td>10247</td>\n",
       "    </tr>\n",
       "    <tr>\n",
       "      <th>1</th>\n",
       "      <td>62798</td>\n",
       "      <td>4333</td>\n",
       "    </tr>\n",
       "    <tr>\n",
       "      <th>2</th>\n",
       "      <td>177870</td>\n",
       "      <td>3327</td>\n",
       "    </tr>\n",
       "    <tr>\n",
       "      <th>3</th>\n",
       "      <td>176528</td>\n",
       "      <td>3243</td>\n",
       "    </tr>\n",
       "    <tr>\n",
       "      <th>4</th>\n",
       "      <td>192931</td>\n",
       "      <td>2627</td>\n",
       "    </tr>\n",
       "    <tr>\n",
       "      <th>5</th>\n",
       "      <td>126637</td>\n",
       "      <td>2589</td>\n",
       "    </tr>\n",
       "    <tr>\n",
       "      <th>6</th>\n",
       "      <td>83144</td>\n",
       "      <td>2351</td>\n",
       "    </tr>\n",
       "    <tr>\n",
       "      <th>7</th>\n",
       "      <td>171772</td>\n",
       "      <td>2268</td>\n",
       "    </tr>\n",
       "  </tbody>\n",
       "</table>\n",
       "</div>"
      ],
      "text/plain": [
       "   landmark_id  count\n",
       "0       138982  10247\n",
       "1        62798   4333\n",
       "2       177870   3327\n",
       "3       176528   3243\n",
       "4       192931   2627\n",
       "5       126637   2589\n",
       "6        83144   2351\n",
       "7       171772   2268"
      ]
     },
     "execution_count": 11,
     "metadata": {},
     "output_type": "execute_result"
    }
   ],
   "source": [
    "# Occurance of landmark_id in decreasing order(Top categories)\n",
    "temp = pd.DataFrame(train_data.landmark_id.value_counts().head(8))\n",
    "temp.reset_index(inplace=True)\n",
    "temp.columns = ['landmark_id','count']\n",
    "temp"
   ]
  },
  {
   "cell_type": "markdown",
   "metadata": {
    "_cell_guid": "0143ef77-1bc6-4407-b964-67a6bbd0508a",
    "_uuid": "f3cf85f6d6ac6d77b63f21e0a9de0c9fe6f3fc42"
   },
   "source": [
    " ### The most frequent landmark_id is 9633  and the count is 50337."
   ]
  },
  {
   "cell_type": "code",
   "execution_count": 12,
   "metadata": {
    "_cell_guid": "a8db8f45-a88b-466b-b6ba-04da2dcd8a07",
    "_uuid": "8965eaf5e33f4a1f079d6a262795d6590e4ba464"
   },
   "outputs": [
    {
     "data": {
      "image/png": "[encoded data removed]",
      "text/plain": [
       "<Figure size 648x576 with 1 Axes>"
      ]
     },
     "metadata": {
      "needs_background": "light"
     },
     "output_type": "display_data"
    }
   ],
   "source": [
    "# Plot the most frequent landmark_ids\n",
    "plt.figure(figsize = (9, 8))\n",
    "plt.title('Most frequent landmarks')\n",
    "sns.set_color_codes(\"pastel\")\n",
    "sns.barplot(x=\"landmark_id\", y=\"count\", data=temp,\n",
    "            label=\"Count\")\n",
    "plt.show()"
   ]
  },
  {
   "cell_type": "markdown",
   "metadata": {},
   "source": [
    "# Create top 1000 classes and training data"
   ]
  },
  {
   "cell_type": "code",
   "execution_count": 30,
   "metadata": {},
   "outputs": [
    {
     "data": {
      "text/html": [
       "<div>\n",
       "<style scoped>\n",
       "    .dataframe tbody tr th:only-of-type {\n",
       "        vertical-align: middle;\n",
       "    }\n",
       "\n",
       "    .dataframe tbody tr th {\n",
       "        vertical-align: top;\n",
       "    }\n",
       "\n",
       "    .dataframe thead th {\n",
       "        text-align: right;\n",
       "    }\n",
       "</style>\n",
       "<table border=\"1\" class=\"dataframe\">\n",
       "  <thead>\n",
       "    <tr style=\"text-align: right;\">\n",
       "      <th></th>\n",
       "      <th>classes</th>\n",
       "    </tr>\n",
       "  </thead>\n",
       "  <tbody>\n",
       "    <tr>\n",
       "      <th>0</th>\n",
       "      <td>138982</td>\n",
       "    </tr>\n",
       "    <tr>\n",
       "      <th>1</th>\n",
       "      <td>62798</td>\n",
       "    </tr>\n",
       "    <tr>\n",
       "      <th>2</th>\n",
       "      <td>177870</td>\n",
       "    </tr>\n",
       "    <tr>\n",
       "      <th>3</th>\n",
       "      <td>176528</td>\n",
       "    </tr>\n",
       "    <tr>\n",
       "      <th>4</th>\n",
       "      <td>192931</td>\n",
       "    </tr>\n",
       "  </tbody>\n",
       "</table>\n",
       "</div>"
      ],
      "text/plain": [
       "   classes\n",
       "0   138982\n",
       "1    62798\n",
       "2   177870\n",
       "3   176528\n",
       "4   192931"
      ]
     },
     "execution_count": 30,
     "metadata": {},
     "output_type": "execute_result"
    }
   ],
   "source": [
    "top1000_classes = train_data.landmark_id.value_counts().head(1000).index.values\n",
    "df_1000 = pd.DataFrame(top1000_classes, columns=['classes'])\n",
    "df_1000.head()\n"
   ]
  },
  {
   "cell_type": "code",
   "execution_count": 38,
   "metadata": {},
   "outputs": [
    {
     "data": {
      "text/plain": [
       "(461568, 3)"
      ]
     },
     "execution_count": 38,
     "metadata": {},
     "output_type": "execute_result"
    }
   ],
   "source": [
    "df_train_1000 = train_data[train_data.landmark_id.isin(set(top1000_classes))]\n",
    "df_train_1000.shape"
   ]
  },
  {
   "cell_type": "code",
   "execution_count": 44,
   "metadata": {},
   "outputs": [],
   "source": [
    "df_1000.to_csv('/mnt/chicm/data/landmark/train/top1000_classes.csv', index=False, header=True)"
   ]
  },
  {
   "cell_type": "code",
   "execution_count": 39,
   "metadata": {},
   "outputs": [
    {
     "data": {
      "text/html": [
       "<div>\n",
       "<style scoped>\n",
       "    .dataframe tbody tr th:only-of-type {\n",
       "        vertical-align: middle;\n",
       "    }\n",
       "\n",
       "    .dataframe tbody tr th {\n",
       "        vertical-align: top;\n",
       "    }\n",
       "\n",
       "    .dataframe thead th {\n",
       "        text-align: right;\n",
       "    }\n",
       "</style>\n",
       "<table border=\"1\" class=\"dataframe\">\n",
       "  <thead>\n",
       "    <tr style=\"text-align: right;\">\n",
       "      <th></th>\n",
       "      <th>id</th>\n",
       "      <th>url</th>\n",
       "      <th>landmark_id</th>\n",
       "    </tr>\n",
       "  </thead>\n",
       "  <tbody>\n",
       "    <tr>\n",
       "      <th>4</th>\n",
       "      <td>4072182eddd0100e</td>\n",
       "      <td>https://upload.wikimedia.org/wikipedia/commons...</td>\n",
       "      <td>2474</td>\n",
       "    </tr>\n",
       "    <tr>\n",
       "      <th>11</th>\n",
       "      <td>ccf070a2da242d56</td>\n",
       "      <td>https://upload.wikimedia.org/wikipedia/commons...</td>\n",
       "      <td>138982</td>\n",
       "    </tr>\n",
       "    <tr>\n",
       "      <th>23</th>\n",
       "      <td>053d1409647dfba2</td>\n",
       "      <td>https://upload.wikimedia.org/wikipedia/commons...</td>\n",
       "      <td>74821</td>\n",
       "    </tr>\n",
       "    <tr>\n",
       "      <th>25</th>\n",
       "      <td>3cdc355c6232712f</td>\n",
       "      <td>https://upload.wikimedia.org/wikipedia/commons...</td>\n",
       "      <td>12877</td>\n",
       "    </tr>\n",
       "    <tr>\n",
       "      <th>45</th>\n",
       "      <td>a1b69336f4bf59ce</td>\n",
       "      <td>https://upload.wikimedia.org/wikipedia/commons...</td>\n",
       "      <td>156009</td>\n",
       "    </tr>\n",
       "  </tbody>\n",
       "</table>\n",
       "</div>"
      ],
      "text/plain": [
       "                  id                                                url  \\\n",
       "4   4072182eddd0100e  https://upload.wikimedia.org/wikipedia/commons...   \n",
       "11  ccf070a2da242d56  https://upload.wikimedia.org/wikipedia/commons...   \n",
       "23  053d1409647dfba2  https://upload.wikimedia.org/wikipedia/commons...   \n",
       "25  3cdc355c6232712f  https://upload.wikimedia.org/wikipedia/commons...   \n",
       "45  a1b69336f4bf59ce  https://upload.wikimedia.org/wikipedia/commons...   \n",
       "\n",
       "    landmark_id  \n",
       "4          2474  \n",
       "11       138982  \n",
       "23        74821  \n",
       "25        12877  \n",
       "45       156009  "
      ]
     },
     "execution_count": 39,
     "metadata": {},
     "output_type": "execute_result"
    }
   ],
   "source": [
    "#df_train_1000.reset_index()\n",
    "df_train_1000.head()"
   ]
  },
  {
   "cell_type": "code",
   "execution_count": 40,
   "metadata": {},
   "outputs": [],
   "source": [
    "df_train_1000.to_csv('/mnt/chicm/data/landmark/train/train_1000.csv', index=False)"
   ]
  },
  {
   "cell_type": "code",
   "execution_count": 43,
   "metadata": {},
   "outputs": [
    {
     "name": "stdout",
     "output_type": "stream",
     "text": [
      "1 11\n",
      "2 12\n",
      "3 13\n",
      "4 14\n",
      "5 15\n",
      "6 16\n",
      "7 17\n",
      "8 18\n",
      "9 19\n"
     ]
    }
   ],
   "source": [
    "x = zip(list(range(1,10)), range(11,20))\n",
    "for i, j in x:\n",
    "    print(i,j)"
   ]
  },
  {
   "cell_type": "markdown",
   "metadata": {},
   "source": [
    "# top 5000 classes"
   ]
  },
  {
   "cell_type": "code",
   "execution_count": 46,
   "metadata": {},
   "outputs": [
    {
     "data": {
      "text/html": [
       "<div>\n",
       "<style scoped>\n",
       "    .dataframe tbody tr th:only-of-type {\n",
       "        vertical-align: middle;\n",
       "    }\n",
       "\n",
       "    .dataframe tbody tr th {\n",
       "        vertical-align: top;\n",
       "    }\n",
       "\n",
       "    .dataframe thead th {\n",
       "        text-align: right;\n",
       "    }\n",
       "</style>\n",
       "<table border=\"1\" class=\"dataframe\">\n",
       "  <thead>\n",
       "    <tr style=\"text-align: right;\">\n",
       "      <th></th>\n",
       "      <th>classes</th>\n",
       "    </tr>\n",
       "  </thead>\n",
       "  <tbody>\n",
       "    <tr>\n",
       "      <th>0</th>\n",
       "      <td>138982</td>\n",
       "    </tr>\n",
       "    <tr>\n",
       "      <th>1</th>\n",
       "      <td>62798</td>\n",
       "    </tr>\n",
       "    <tr>\n",
       "      <th>2</th>\n",
       "      <td>177870</td>\n",
       "    </tr>\n",
       "    <tr>\n",
       "      <th>3</th>\n",
       "      <td>176528</td>\n",
       "    </tr>\n",
       "    <tr>\n",
       "      <th>4</th>\n",
       "      <td>192931</td>\n",
       "    </tr>\n",
       "  </tbody>\n",
       "</table>\n",
       "</div>"
      ],
      "text/plain": [
       "   classes\n",
       "0   138982\n",
       "1    62798\n",
       "2   177870\n",
       "3   176528\n",
       "4   192931"
      ]
     },
     "execution_count": 46,
     "metadata": {},
     "output_type": "execute_result"
    }
   ],
   "source": [
    "top5000_classes = train_data.landmark_id.value_counts().head(5000).index.values\n",
    "df_5000 = pd.DataFrame(top5000_classes, columns=['classes'])\n",
    "#df_5000.head()"
   ]
  },
  {
   "cell_type": "code",
   "execution_count": 47,
   "metadata": {},
   "outputs": [
    {
     "data": {
      "text/plain": [
       "(1103426, 3)"
      ]
     },
     "execution_count": 47,
     "metadata": {},
     "output_type": "execute_result"
    }
   ],
   "source": [
    "df_train_5000 = train_data[train_data.landmark_id.isin(set(top5000_classes))]\n",
    "df_train_5000.shape"
   ]
  },
  {
   "cell_type": "code",
   "execution_count": 48,
   "metadata": {},
   "outputs": [],
   "source": [
    "df_5000.to_csv('/mnt/chicm/data/landmark/train/top5000_classes.csv', index=False, header=True)"
   ]
  },
  {
   "cell_type": "code",
   "execution_count": 49,
   "metadata": {},
   "outputs": [],
   "source": [
    "df_train_5000.to_csv('/mnt/chicm/data/landmark/train/train_5000.csv', index=False)"
   ]
  },
  {
   "cell_type": "markdown",
   "metadata": {},
   "source": [
    "# top 10000"
   ]
  },
  {
   "cell_type": "code",
   "execution_count": 62,
   "metadata": {},
   "outputs": [],
   "source": [
    "top10000_classes = train_data.landmark_id.value_counts().head(10000).index.values\n",
    "df_10000 = pd.DataFrame(top10000_classes, columns=['classes'])"
   ]
  },
  {
   "cell_type": "code",
   "execution_count": 63,
   "metadata": {},
   "outputs": [
    {
     "data": {
      "text/plain": [
       "(1567821, 3)"
      ]
     },
     "execution_count": 63,
     "metadata": {},
     "output_type": "execute_result"
    }
   ],
   "source": [
    "df_train_10000 = train_data[train_data.landmark_id.isin(set(top10000_classes))]\n",
    "df_train_10000.shape"
   ]
  },
  {
   "cell_type": "code",
   "execution_count": 64,
   "metadata": {},
   "outputs": [],
   "source": [
    "df_10000.to_csv('/mnt/chicm/data/landmark/train/top10000_classes.csv', index=False, header=True)\n",
    "df_train_10000.to_csv('/mnt/chicm/data/landmark/train/train_10000.csv', index=False)"
   ]
  },
  {
   "cell_type": "markdown",
   "metadata": {},
   "source": [
    "# top 50000"
   ]
  },
  {
   "cell_type": "code",
   "execution_count": 52,
   "metadata": {},
   "outputs": [
    {
     "data": {
      "text/html": [
       "<div>\n",
       "<style scoped>\n",
       "    .dataframe tbody tr th:only-of-type {\n",
       "        vertical-align: middle;\n",
       "    }\n",
       "\n",
       "    .dataframe tbody tr th {\n",
       "        vertical-align: top;\n",
       "    }\n",
       "\n",
       "    .dataframe thead th {\n",
       "        text-align: right;\n",
       "    }\n",
       "</style>\n",
       "<table border=\"1\" class=\"dataframe\">\n",
       "  <thead>\n",
       "    <tr style=\"text-align: right;\">\n",
       "      <th></th>\n",
       "      <th>classes</th>\n",
       "    </tr>\n",
       "  </thead>\n",
       "  <tbody>\n",
       "    <tr>\n",
       "      <th>0</th>\n",
       "      <td>138982</td>\n",
       "    </tr>\n",
       "    <tr>\n",
       "      <th>1</th>\n",
       "      <td>62798</td>\n",
       "    </tr>\n",
       "    <tr>\n",
       "      <th>2</th>\n",
       "      <td>177870</td>\n",
       "    </tr>\n",
       "    <tr>\n",
       "      <th>3</th>\n",
       "      <td>176528</td>\n",
       "    </tr>\n",
       "    <tr>\n",
       "      <th>4</th>\n",
       "      <td>192931</td>\n",
       "    </tr>\n",
       "  </tbody>\n",
       "</table>\n",
       "</div>"
      ],
      "text/plain": [
       "   classes\n",
       "0   138982\n",
       "1    62798\n",
       "2   177870\n",
       "3   176528\n",
       "4   192931"
      ]
     },
     "execution_count": 52,
     "metadata": {},
     "output_type": "execute_result"
    }
   ],
   "source": [
    "top50000_classes = train_data.landmark_id.value_counts().head(50000).index.values\n",
    "df_50000 = pd.DataFrame(top50000_classes, columns=['classes'])\n",
    "df_50000.head()"
   ]
  },
  {
   "cell_type": "code",
   "execution_count": 53,
   "metadata": {},
   "outputs": [
    {
     "data": {
      "text/plain": [
       "(3075002, 3)"
      ]
     },
     "execution_count": 53,
     "metadata": {},
     "output_type": "execute_result"
    }
   ],
   "source": [
    "df_train_50000 = train_data[train_data.landmark_id.isin(set(top50000_classes))]\n",
    "df_train_50000.shape"
   ]
  },
  {
   "cell_type": "code",
   "execution_count": 54,
   "metadata": {},
   "outputs": [
    {
     "data": {
      "text/plain": [
       "(4132914, 3)"
      ]
     },
     "execution_count": 54,
     "metadata": {},
     "output_type": "execute_result"
    }
   ],
   "source": [
    "train_data.shape"
   ]
  },
  {
   "cell_type": "code",
   "execution_count": 55,
   "metadata": {},
   "outputs": [],
   "source": [
    "df_50000.to_csv('/mnt/chicm/data/landmark/train/top50000_classes.csv', index=False, header=True)\n",
    "df_train_50000.to_csv('/mnt/chicm/data/landmark/train/train_50000.csv', index=False)"
   ]
  },
  {
   "cell_type": "markdown",
   "metadata": {},
   "source": [
    "# all classes"
   ]
  },
  {
   "cell_type": "code",
   "execution_count": 58,
   "metadata": {},
   "outputs": [
    {
     "name": "stdout",
     "output_type": "stream",
     "text": [
      "(203094, 1)\n"
     ]
    },
    {
     "data": {
      "text/html": [
       "<div>\n",
       "<style scoped>\n",
       "    .dataframe tbody tr th:only-of-type {\n",
       "        vertical-align: middle;\n",
       "    }\n",
       "\n",
       "    .dataframe tbody tr th {\n",
       "        vertical-align: top;\n",
       "    }\n",
       "\n",
       "    .dataframe thead th {\n",
       "        text-align: right;\n",
       "    }\n",
       "</style>\n",
       "<table border=\"1\" class=\"dataframe\">\n",
       "  <thead>\n",
       "    <tr style=\"text-align: right;\">\n",
       "      <th></th>\n",
       "      <th>classes</th>\n",
       "    </tr>\n",
       "  </thead>\n",
       "  <tbody>\n",
       "    <tr>\n",
       "      <th>0</th>\n",
       "      <td>138982</td>\n",
       "    </tr>\n",
       "    <tr>\n",
       "      <th>1</th>\n",
       "      <td>62798</td>\n",
       "    </tr>\n",
       "    <tr>\n",
       "      <th>2</th>\n",
       "      <td>177870</td>\n",
       "    </tr>\n",
       "    <tr>\n",
       "      <th>3</th>\n",
       "      <td>176528</td>\n",
       "    </tr>\n",
       "    <tr>\n",
       "      <th>4</th>\n",
       "      <td>192931</td>\n",
       "    </tr>\n",
       "  </tbody>\n",
       "</table>\n",
       "</div>"
      ],
      "text/plain": [
       "   classes\n",
       "0   138982\n",
       "1    62798\n",
       "2   177870\n",
       "3   176528\n",
       "4   192931"
      ]
     },
     "execution_count": 58,
     "metadata": {},
     "output_type": "execute_result"
    }
   ],
   "source": [
    "top203094_classes = train_data.landmark_id.value_counts().index.values\n",
    "df_203094 = pd.DataFrame(top203094_classes, columns=['classes'])\n",
    "print(df_203094.shape)\n",
    "df_203094.head()"
   ]
  },
  {
   "cell_type": "code",
   "execution_count": 59,
   "metadata": {},
   "outputs": [],
   "source": [
    "df_203094.to_csv('/mnt/chicm/data/landmark/train/top203094_classes.csv', index=False, header=True)"
   ]
  },
  {
   "cell_type": "code",
   "execution_count": null,
   "metadata": {},
   "outputs": [],
   "source": []
  },
  {
   "cell_type": "markdown",
   "metadata": {
    "_cell_guid": "0035a345-9d95-47c4-91f8-9d2e7b403575",
    "_uuid": "a4bce2c8f98e4235352d9ce50a889615ab3303be"
   },
   "source": [
    "## Lets see least frequent landmarks"
   ]
  },
  {
   "cell_type": "code",
   "execution_count": 60,
   "metadata": {
    "_cell_guid": "4e6eb52b-f678-495d-a41a-fc9039a67787",
    "_uuid": "8d55b0a44a01a5901ac491b5bbc97d9ab7a02cf7"
   },
   "outputs": [
    {
     "data": {
      "text/html": [
       "<div>\n",
       "<style scoped>\n",
       "    .dataframe tbody tr th:only-of-type {\n",
       "        vertical-align: middle;\n",
       "    }\n",
       "\n",
       "    .dataframe tbody tr th {\n",
       "        vertical-align: top;\n",
       "    }\n",
       "\n",
       "    .dataframe thead th {\n",
       "        text-align: right;\n",
       "    }\n",
       "</style>\n",
       "<table border=\"1\" class=\"dataframe\">\n",
       "  <thead>\n",
       "    <tr style=\"text-align: right;\">\n",
       "      <th></th>\n",
       "      <th>landmark_id</th>\n",
       "      <th>count</th>\n",
       "    </tr>\n",
       "  </thead>\n",
       "  <tbody>\n",
       "    <tr>\n",
       "      <th>0</th>\n",
       "      <td>22473</td>\n",
       "      <td>1</td>\n",
       "    </tr>\n",
       "    <tr>\n",
       "      <th>1</th>\n",
       "      <td>70512</td>\n",
       "      <td>1</td>\n",
       "    </tr>\n",
       "    <tr>\n",
       "      <th>2</th>\n",
       "      <td>127852</td>\n",
       "      <td>1</td>\n",
       "    </tr>\n",
       "    <tr>\n",
       "      <th>3</th>\n",
       "      <td>134828</td>\n",
       "      <td>1</td>\n",
       "    </tr>\n",
       "    <tr>\n",
       "      <th>4</th>\n",
       "      <td>139519</td>\n",
       "      <td>1</td>\n",
       "    </tr>\n",
       "    <tr>\n",
       "      <th>5</th>\n",
       "      <td>24520</td>\n",
       "      <td>1</td>\n",
       "    </tr>\n",
       "    <tr>\n",
       "      <th>6</th>\n",
       "      <td>17242</td>\n",
       "      <td>1</td>\n",
       "    </tr>\n",
       "    <tr>\n",
       "      <th>7</th>\n",
       "      <td>133954</td>\n",
       "      <td>1</td>\n",
       "    </tr>\n",
       "  </tbody>\n",
       "</table>\n",
       "</div>"
      ],
      "text/plain": [
       "   landmark_id  count\n",
       "0        22473      1\n",
       "1        70512      1\n",
       "2       127852      1\n",
       "3       134828      1\n",
       "4       139519      1\n",
       "5        24520      1\n",
       "6        17242      1\n",
       "7       133954      1"
      ]
     },
     "execution_count": 60,
     "metadata": {},
     "output_type": "execute_result"
    }
   ],
   "source": [
    "# Occurance of landmark_id in increasing order\n",
    "temp = pd.DataFrame(train_data.landmark_id.value_counts().tail(8))\n",
    "temp.reset_index(inplace=True)\n",
    "temp.columns = ['landmark_id','count']\n",
    "temp"
   ]
  },
  {
   "cell_type": "markdown",
   "metadata": {
    "_cell_guid": "0aeac04f-6a95-4c06-b395-8ee7c1a73102",
    "_uuid": "b2542688db65194fd6e6a9d4087c43c595b062d8"
   },
   "source": [
    "### There are many least frequent landmarks whose count is 1"
   ]
  },
  {
   "cell_type": "code",
   "execution_count": 61,
   "metadata": {
    "_cell_guid": "db14649f-ff5f-48a5-ae36-f7e83581f99e",
    "_uuid": "967c790b73f9dc93fb53592bb153be99bdda3e1e"
   },
   "outputs": [
    {
     "data": {
      "image/png": "[encoded data removed]",
      "text/plain": [
       "<Figure size 648x576 with 1 Axes>"
      ]
     },
     "metadata": {
      "needs_background": "light"
     },
     "output_type": "display_data"
    }
   ],
   "source": [
    "# Plot the least frequent landmark_ids\n",
    "plt.figure(figsize = (9, 8))\n",
    "plt.title('Least frequent landmarks')\n",
    "sns.set_color_codes(\"pastel\")\n",
    "sns.barplot(x=\"landmark_id\", y=\"count\", data=temp,\n",
    "            label=\"Count\")\n",
    "plt.show()"
   ]
  },
  {
   "cell_type": "markdown",
   "metadata": {
    "_cell_guid": "1a9e427f-c8f1-4032-bd3f-e0804cd941c4",
    "_uuid": "5eaf7f661352df6e174523216def4bec7c4caef9"
   },
   "source": [
    "## lets see unique URLs"
   ]
  },
  {
   "cell_type": "code",
   "execution_count": 57,
   "metadata": {
    "_cell_guid": "88f022f7-1956-40b6-8907-a069e5bd2e95",
    "_uuid": "e086d157bb84b4250828d5e351c8135187981448"
   },
   "outputs": [
    {
     "data": {
      "text/plain": [
       "id             4132914\n",
       "url            4132914\n",
       "landmark_id     203094\n",
       "dtype: int64"
      ]
     },
     "execution_count": 57,
     "metadata": {},
     "output_type": "execute_result"
    }
   ],
   "source": [
    "# Unique URL's\n",
    "train_data.nunique()"
   ]
  },
  {
   "cell_type": "code",
   "execution_count": null,
   "metadata": {
    "_cell_guid": "b40ffb79-742b-47d6-9f07-36ed6939f913",
    "_uuid": "22b371df12b74be2dce17a2273109f4e1c5ed2e0",
    "collapsed": true
   },
   "outputs": [],
   "source": [
    "#Class distribution\n",
    "plt.figure(figsize = (10, 8))\n",
    "plt.title('Category Distribuition')\n",
    "sns.distplot(train_data['landmark_id'])\n",
    "\n",
    "plt.show()"
   ]
  },
  {
   "cell_type": "code",
   "execution_count": null,
   "metadata": {
    "_cell_guid": "e5224959-3145-4f89-86d8-7a6db5d8bc40",
    "_uuid": "186edf66c19f2bb07cb9036944c9a5de804c1fad",
    "collapsed": true
   },
   "outputs": [],
   "source": [
    "print(\"Number of classes under 20 occurences\",(train_data['landmark_id'].value_counts() <= 20).sum(),'out of total number of categories',len(train_data['landmark_id'].unique()))"
   ]
  },
  {
   "cell_type": "markdown",
   "metadata": {
    "_cell_guid": "d6af2db8-8fbc-4080-a1c5-dda29b64caf2",
    "_uuid": "a11f8d78585baa81584416f1ab72c1d48df8e28a"
   },
   "source": [
    "## Lets display some images from URLs / Some URLs Visulization "
   ]
  },
  {
   "cell_type": "code",
   "execution_count": null,
   "metadata": {
    "_cell_guid": "9323388d-a12c-478d-a601-66cc200a326d",
    "_uuid": "30c923d0d743dfca12ccdf4630dfe5b47348ee8a",
    "collapsed": true
   },
   "outputs": [],
   "source": [
    "from IPython.display import Image\n",
    "from IPython.core.display import HTML \n",
    "\n",
    "def display_category(urls, category_name):\n",
    "    img_style = \"width: 180px; margin: 0px; float: left; border: 1px solid black;\"\n",
    "    images_list = ''.join([f\"<img style='{img_style}' src='{u}' />\" for _, u in urls.head(12).iteritems()])\n",
    "\n",
    "    display(HTML(images_list))"
   ]
  },
  {
   "cell_type": "code",
   "execution_count": null,
   "metadata": {
    "_cell_guid": "f07d3d50-04d7-4d8f-a939-6aab01066b99",
    "_uuid": "cd321dcc961762d727a764f4343f3bc7d169ec38",
    "collapsed": true
   },
   "outputs": [],
   "source": [
    "category = train_data['landmark_id'].value_counts().keys()[0]\n",
    "urls = train_data[train_data['landmark_id'] == category]['url']\n",
    "display_category(urls, \"\")"
   ]
  },
  {
   "cell_type": "code",
   "execution_count": null,
   "metadata": {
    "_cell_guid": "6f74e6bf-ce36-4abd-a971-19686ab1a90a",
    "_uuid": "d3e27fe9bf9c444809aa9827c60b4ac9c686e42e",
    "collapsed": true
   },
   "outputs": [],
   "source": [
    "category = train_data['landmark_id'].value_counts().keys()[1]\n",
    "urls = train_data[train_data['landmark_id'] == category]['url']\n",
    "display_category(urls, \"\")"
   ]
  },
  {
   "cell_type": "markdown",
   "metadata": {
    "_cell_guid": "9f9cdbb8-3a92-4a22-a839-2d931eb4adba",
    "_uuid": "f9dc533bf9065821bd53c48876814b1b5835ab4c",
    "collapsed": true
   },
   "source": [
    "# Now Lets extract the website name and see their occurances"
   ]
  },
  {
   "cell_type": "code",
   "execution_count": null,
   "metadata": {
    "_cell_guid": "81a6b1b5-be0f-4512-b571-c4ff646b5d80",
    "_uuid": "7f02b63c37845e286bd557d5c74785bcd8581844",
    "collapsed": true
   },
   "outputs": [],
   "source": [
    "# Extract site_names for train data\n",
    "temp_list = list()\n",
    "for path in train_data['url']:\n",
    "    temp_list.append((path.split('//', 1)[1]).split('/', 1)[0])\n",
    "train_data['site_name'] = temp_list\n",
    "# Extract site_names for test data\n",
    "temp_list = list()\n",
    "for path in test_data['url']:\n",
    "    temp_list.append((path.split('//', 1)[1]).split('/', 1)[0])\n",
    "test_data['site_name'] = temp_list"
   ]
  },
  {
   "cell_type": "markdown",
   "metadata": {
    "_cell_guid": "6c866043-00da-479d-9437-4a31fbf8016d",
    "_uuid": "1404c55c6262c4c6c50705592cc986a43d4b0b63"
   },
   "source": [
    "### We have added one new column \"site_name\". lets see"
   ]
  },
  {
   "cell_type": "code",
   "execution_count": null,
   "metadata": {
    "_cell_guid": "c3b67307-6ac0-46ee-9e0c-87fffd42e3ca",
    "_uuid": "ef1ca917bfcd06b154ea43fe53842f4ddbc32cad",
    "collapsed": true
   },
   "outputs": [],
   "source": [
    "print(\"Training data size\",train_data.shape)\n",
    "print(\"test data size\",test_data.shape)"
   ]
  },
  {
   "cell_type": "code",
   "execution_count": null,
   "metadata": {
    "_cell_guid": "b8585641-0181-4a6c-91d3-80a9c7102b50",
    "_uuid": "166482cdce5b8a24298547cbf9262693eff2a447",
    "collapsed": true
   },
   "outputs": [],
   "source": [
    "train_data.head(8)"
   ]
  },
  {
   "cell_type": "code",
   "execution_count": null,
   "metadata": {
    "_cell_guid": "8972f215-2e48-43de-8122-0b3210ba30ea",
    "_uuid": "54312642d6814ce001466a2eb5d90ea4d54ced4b",
    "collapsed": true
   },
   "outputs": [],
   "source": [
    "test_data.head()"
   ]
  },
  {
   "cell_type": "markdown",
   "metadata": {
    "_cell_guid": "3aa5c9e3-df90-4615-a1e9-bf2313818ac5",
    "_uuid": "59ae5f36972b993449ccf895752c231fe5a6df28"
   },
   "source": [
    "## occurances of sites in train_data"
   ]
  },
  {
   "cell_type": "code",
   "execution_count": null,
   "metadata": {
    "_cell_guid": "b4160d90-58e5-43e1-9439-7697f8a7de33",
    "_uuid": "e218e18820e00557e704c9328a457a9cd97f0d1e",
    "collapsed": true
   },
   "outputs": [],
   "source": [
    "# Occurance of site in decreasing order(Top categories)\n",
    "temp = pd.DataFrame(train_data.site_name.value_counts())\n",
    "temp.reset_index(inplace=True)\n",
    "temp.columns = ['site_name','count']\n",
    "temp"
   ]
  },
  {
   "cell_type": "markdown",
   "metadata": {
    "_cell_guid": "4a620c9a-79f7-4485-80d2-0a83e7905898",
    "_uuid": "2940ef89d4aa5ffd460dd19e8b556ae3523298c8"
   },
   "source": [
    "### As we can see there are total 16 unique sites."
   ]
  },
  {
   "cell_type": "code",
   "execution_count": null,
   "metadata": {
    "_cell_guid": "ee3939b1-a064-4bcb-a284-9a2b5652c546",
    "_uuid": "ed6f30fbf43ce29fc6e39a2e3c3fd70029121f66",
    "collapsed": true
   },
   "outputs": [],
   "source": [
    "# Plot the Sites with their count\n",
    "plt.figure(figsize = (9, 8))\n",
    "plt.title('Sites with their count')\n",
    "sns.set_color_codes(\"pastel\")\n",
    "sns.barplot(x=\"site_name\", y=\"count\", data=temp,\n",
    "            label=\"Count\")\n",
    "locs, labels = plt.xticks()\n",
    "plt.setp(labels, rotation=90)\n",
    "plt.show()"
   ]
  },
  {
   "cell_type": "markdown",
   "metadata": {
    "_cell_guid": "cc88aa1e-0359-435b-a26f-50f5bda5f826",
    "_uuid": "3d8f08bfa1cdc08511438a86249e89ce60829551"
   },
   "source": [
    "## occurances of sites in test_data"
   ]
  },
  {
   "cell_type": "code",
   "execution_count": null,
   "metadata": {
    "_cell_guid": "da9ef7f5-809c-46de-982a-8c5c2c68a010",
    "_uuid": "a33054598818ba56342045c7e4dfe628ffc24306",
    "collapsed": true
   },
   "outputs": [],
   "source": [
    "# Occurance of site in decreasing order(Top categories)\n",
    "temp = pd.DataFrame(test_data.site_name.value_counts())\n",
    "temp.reset_index(inplace=True)\n",
    "temp.columns = ['site_name','count']\n",
    "temp"
   ]
  },
  {
   "cell_type": "markdown",
   "metadata": {
    "_cell_guid": "7ef91c93-bb78-4877-815e-f93a042da52a",
    "_uuid": "31563e163eadc8e50ebd87d198a60edfe0e95575"
   },
   "source": [
    "### Total unique sites are 25 in test data and some are different from train_data\n"
   ]
  },
  {
   "cell_type": "code",
   "execution_count": null,
   "metadata": {
    "_cell_guid": "6629fb2d-1c39-454c-b4ec-59d80df67ea5",
    "_uuid": "4a4bb792d3a1820504f54ca92c7cc7c316dcf880",
    "collapsed": true
   },
   "outputs": [],
   "source": [
    "# Plot the Sites with their count\n",
    "plt.figure(figsize = (9, 8))\n",
    "plt.title('Sites with their count')\n",
    "sns.set_color_codes(\"pastel\")\n",
    "sns.barplot(x=\"site_name\", y=\"count\", data=temp,\n",
    "            label=\"Count\")\n",
    "locs, labels = plt.xticks()\n",
    "plt.setp(labels, rotation=90)\n",
    "plt.show()"
   ]
  },
  {
   "cell_type": "markdown",
   "metadata": {
    "_cell_guid": "fbd65712-e3e1-4710-bb41-24ade6cfc95e",
    "_uuid": "344ec1c432b87b5dee686c92aedcc65ac0a589b1",
    "collapsed": true
   },
   "source": [
    "### As we can see that most of the images are taken from one site only."
   ]
  },
  {
   "cell_type": "markdown",
   "metadata": {
    "_cell_guid": "876386f5-2e33-4375-a192-37ec8f7d1f3c",
    "_uuid": "e0d42d97a40d991fa89b25b82298ddf6a81ad1af",
    "collapsed": true
   },
   "source": [
    "##### Referances :\n",
    " * https://www.kaggle.com/mxdbld/yadv-simple-exploration-of-google-recognition \n",
    " * https://www.kaggle.com/gpreda/google-landmark-recognition-challenge-eda"
   ]
  },
  {
   "cell_type": "code",
   "execution_count": null,
   "metadata": {
    "_cell_guid": "fc78926f-373c-4353-b622-ab1085726dbc",
    "_uuid": "2d475f1033c9c8744046ef695ec5d49b8001b0de",
    "collapsed": true
   },
   "outputs": [],
   "source": []
  }
 ],
 "metadata": {
  "kernelspec": {
   "display_name": "Python 3",
   "language": "python",
   "name": "python3"
  },
  "language_info": {
   "codemirror_mode": {
    "name": "ipython",
    "version": 3
   },
   "file_extension": ".py",
   "mimetype": "text/x-python",
   "name": "python",
   "nbconvert_exporter": "python",
   "pygments_lexer": "ipython3",
   "version": "3.6.7"
  }
 },
 "nbformat": 4,
 "nbformat_minor": 1
}
