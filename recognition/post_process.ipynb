{
 "cells": [
  {
   "cell_type": "code",
   "execution_count": 1,
   "metadata": {},
   "outputs": [],
   "source": [
    "import os\n",
    "import pandas as pd\n",
    "import numpy as np"
   ]
  },
  {
   "cell_type": "code",
   "execution_count": 2,
   "metadata": {},
   "outputs": [
    {
     "name": "stdout",
     "output_type": "stream",
     "text": [
      "dense121_50k_4767.csv\t\t   sub3_1000.csv\r\n",
      "ens_4_models_50000.csv\t\t   sub_50000_3118.csv\r\n",
      "ens_4_models_50000_setnan_018.csv  sub_50000_4223.csv\r\n",
      "ens_4_models_50000_setnan_035.csv  sub_5000_2.csv\r\n",
      "ens_4_models_50000_setnan_07.csv   sub_all_classes_0418.csv\r\n",
      "ensemble1.csv\t\t\t   sub_all_classes_1128.csv\r\n",
      "ensemble_50000_3_models.csv\t   sub_dense169_50000_3637.csv\r\n",
      "sub_10000_6520.csv\t\t   sub_retrieval_1.csv\r\n",
      "sub1.csv\t\t\t   sub_se_res101_50000_3525.csv\r\n",
      "sub_20000_4968.csv\t\t   sub_seresnext5032x4d_50000_50000_4320.csv\r\n",
      "sub_20000_5598.csv\t\t   sub_se_resnext50_32x4d_B_50000_4469.csv\r\n",
      "sub2_5000.csv\t\t\t   sub_vec1.csv\r\n",
      "sub2.csv\r\n"
     ]
    }
   ],
   "source": [
    "!ls output"
   ]
  },
  {
   "cell_type": "code",
   "execution_count": 3,
   "metadata": {},
   "outputs": [],
   "source": [
    "df = pd.read_csv('output/ens_4_models_50000.csv')\n",
    "df2 = pd.read_csv('output/sub_seresnext5032x4d_50000_50000_4320.csv')"
   ]
  },
  {
   "cell_type": "code",
   "execution_count": 4,
   "metadata": {},
   "outputs": [],
   "source": [
    "df['score'] = df.landmarks.map(lambda x: 0. if pd.isna(x) else float(x.split(' ')[1]))\n",
    "df2['score'] = df2.landmarks.map(lambda x: 0. if pd.isna(x) else float(x.split(' ')[1]))"
   ]
  },
  {
   "cell_type": "code",
   "execution_count": 5,
   "metadata": {},
   "outputs": [
    {
     "data": {
      "text/html": [
       "<div>\n",
       "<style scoped>\n",
       "    .dataframe tbody tr th:only-of-type {\n",
       "        vertical-align: middle;\n",
       "    }\n",
       "\n",
       "    .dataframe tbody tr th {\n",
       "        vertical-align: top;\n",
       "    }\n",
       "\n",
       "    .dataframe thead th {\n",
       "        text-align: right;\n",
       "    }\n",
       "</style>\n",
       "<table border=\"1\" class=\"dataframe\">\n",
       "  <thead>\n",
       "    <tr style=\"text-align: right;\">\n",
       "      <th></th>\n",
       "      <th>id</th>\n",
       "      <th>landmarks</th>\n",
       "      <th>score</th>\n",
       "    </tr>\n",
       "  </thead>\n",
       "  <tbody>\n",
       "    <tr>\n",
       "      <th>0</th>\n",
       "      <td>cb9998b8cdaf6235</td>\n",
       "      <td>64042 0.035033</td>\n",
       "      <td>0.035033</td>\n",
       "    </tr>\n",
       "    <tr>\n",
       "      <th>1</th>\n",
       "      <td>30728cf6e50a6bc6</td>\n",
       "      <td>14317 0.113227</td>\n",
       "      <td>0.113227</td>\n",
       "    </tr>\n",
       "    <tr>\n",
       "      <th>2</th>\n",
       "      <td>16afbc86b710337d</td>\n",
       "      <td>37768 0.027412</td>\n",
       "      <td>0.027412</td>\n",
       "    </tr>\n",
       "    <tr>\n",
       "      <th>3</th>\n",
       "      <td>d29b2166cf522450</td>\n",
       "      <td>201509 0.015100</td>\n",
       "      <td>0.015100</td>\n",
       "    </tr>\n",
       "    <tr>\n",
       "      <th>4</th>\n",
       "      <td>dd5c03b20c21cfba</td>\n",
       "      <td>161152 0.071214</td>\n",
       "      <td>0.071214</td>\n",
       "    </tr>\n",
       "  </tbody>\n",
       "</table>\n",
       "</div>"
      ],
      "text/plain": [
       "                 id        landmarks     score\n",
       "0  cb9998b8cdaf6235   64042 0.035033  0.035033\n",
       "1  30728cf6e50a6bc6   14317 0.113227  0.113227\n",
       "2  16afbc86b710337d   37768 0.027412  0.027412\n",
       "3  d29b2166cf522450  201509 0.015100  0.015100\n",
       "4  dd5c03b20c21cfba  161152 0.071214  0.071214"
      ]
     },
     "execution_count": 5,
     "metadata": {},
     "output_type": "execute_result"
    }
   ],
   "source": [
    "df.head()"
   ]
  },
  {
   "cell_type": "code",
   "execution_count": 6,
   "metadata": {},
   "outputs": [
    {
     "data": {
      "text/html": [
       "<div>\n",
       "<style scoped>\n",
       "    .dataframe tbody tr th:only-of-type {\n",
       "        vertical-align: middle;\n",
       "    }\n",
       "\n",
       "    .dataframe tbody tr th {\n",
       "        vertical-align: top;\n",
       "    }\n",
       "\n",
       "    .dataframe thead th {\n",
       "        text-align: right;\n",
       "    }\n",
       "</style>\n",
       "<table border=\"1\" class=\"dataframe\">\n",
       "  <thead>\n",
       "    <tr style=\"text-align: right;\">\n",
       "      <th></th>\n",
       "      <th>id</th>\n",
       "      <th>landmarks</th>\n",
       "      <th>score</th>\n",
       "    </tr>\n",
       "  </thead>\n",
       "  <tbody>\n",
       "    <tr>\n",
       "      <th>0</th>\n",
       "      <td>cb9998b8cdaf6235</td>\n",
       "      <td>189295 0.058669</td>\n",
       "      <td>0.058669</td>\n",
       "    </tr>\n",
       "    <tr>\n",
       "      <th>1</th>\n",
       "      <td>30728cf6e50a6bc6</td>\n",
       "      <td>200037 0.065895</td>\n",
       "      <td>0.065895</td>\n",
       "    </tr>\n",
       "    <tr>\n",
       "      <th>2</th>\n",
       "      <td>16afbc86b710337d</td>\n",
       "      <td>60643 0.114938</td>\n",
       "      <td>0.114938</td>\n",
       "    </tr>\n",
       "    <tr>\n",
       "      <th>3</th>\n",
       "      <td>d29b2166cf522450</td>\n",
       "      <td>10648 0.265826</td>\n",
       "      <td>0.265826</td>\n",
       "    </tr>\n",
       "    <tr>\n",
       "      <th>4</th>\n",
       "      <td>dd5c03b20c21cfba</td>\n",
       "      <td>125021 0.951157</td>\n",
       "      <td>0.951157</td>\n",
       "    </tr>\n",
       "  </tbody>\n",
       "</table>\n",
       "</div>"
      ],
      "text/plain": [
       "                 id        landmarks     score\n",
       "0  cb9998b8cdaf6235  189295 0.058669  0.058669\n",
       "1  30728cf6e50a6bc6  200037 0.065895  0.065895\n",
       "2  16afbc86b710337d   60643 0.114938  0.114938\n",
       "3  d29b2166cf522450   10648 0.265826  0.265826\n",
       "4  dd5c03b20c21cfba  125021 0.951157  0.951157"
      ]
     },
     "execution_count": 6,
     "metadata": {},
     "output_type": "execute_result"
    }
   ],
   "source": [
    "df2.head()"
   ]
  },
  {
   "cell_type": "code",
   "execution_count": 15,
   "metadata": {},
   "outputs": [
    {
     "data": {
      "text/plain": [
       "0.6208168016108341"
      ]
     },
     "execution_count": 15,
     "metadata": {},
     "output_type": "execute_result"
    }
   ],
   "source": [
    "df[df.score < 0.07].shape[0] / df.shape[0]"
   ]
  },
  {
   "cell_type": "code",
   "execution_count": 12,
   "metadata": {},
   "outputs": [
    {
     "data": {
      "text/plain": [
       "0.7094806419547505"
      ]
     },
     "execution_count": 12,
     "metadata": {},
     "output_type": "execute_result"
    }
   ],
   "source": [
    "df2[df2.score < 0.19].shape[0] / df2.shape[0]"
   ]
  },
  {
   "cell_type": "code",
   "execution_count": 16,
   "metadata": {},
   "outputs": [],
   "source": [
    "df.loc[df['score'] < 0.07, 'landmarks'] = np.nan"
   ]
  },
  {
   "cell_type": "code",
   "execution_count": 20,
   "metadata": {},
   "outputs": [
    {
     "data": {
      "text/html": [
       "<div>\n",
       "<style scoped>\n",
       "    .dataframe tbody tr th:only-of-type {\n",
       "        vertical-align: middle;\n",
       "    }\n",
       "\n",
       "    .dataframe tbody tr th {\n",
       "        vertical-align: top;\n",
       "    }\n",
       "\n",
       "    .dataframe thead th {\n",
       "        text-align: right;\n",
       "    }\n",
       "</style>\n",
       "<table border=\"1\" class=\"dataframe\">\n",
       "  <thead>\n",
       "    <tr style=\"text-align: right;\">\n",
       "      <th></th>\n",
       "      <th>id</th>\n",
       "      <th>landmarks</th>\n",
       "      <th>score</th>\n",
       "    </tr>\n",
       "  </thead>\n",
       "  <tbody>\n",
       "    <tr>\n",
       "      <th>0</th>\n",
       "      <td>cb9998b8cdaf6235</td>\n",
       "      <td>NaN</td>\n",
       "      <td>0.035033</td>\n",
       "    </tr>\n",
       "    <tr>\n",
       "      <th>1</th>\n",
       "      <td>30728cf6e50a6bc6</td>\n",
       "      <td>14317 0.113227</td>\n",
       "      <td>0.113227</td>\n",
       "    </tr>\n",
       "    <tr>\n",
       "      <th>2</th>\n",
       "      <td>16afbc86b710337d</td>\n",
       "      <td>NaN</td>\n",
       "      <td>0.027412</td>\n",
       "    </tr>\n",
       "    <tr>\n",
       "      <th>3</th>\n",
       "      <td>d29b2166cf522450</td>\n",
       "      <td>NaN</td>\n",
       "      <td>0.015100</td>\n",
       "    </tr>\n",
       "    <tr>\n",
       "      <th>4</th>\n",
       "      <td>dd5c03b20c21cfba</td>\n",
       "      <td>161152 0.071214</td>\n",
       "      <td>0.071214</td>\n",
       "    </tr>\n",
       "    <tr>\n",
       "      <th>5</th>\n",
       "      <td>0724ed7fbfe67000</td>\n",
       "      <td>NaN</td>\n",
       "      <td>0.020458</td>\n",
       "    </tr>\n",
       "    <tr>\n",
       "      <th>6</th>\n",
       "      <td>c67e5d9ef98d533f</td>\n",
       "      <td>NaN</td>\n",
       "      <td>0.042734</td>\n",
       "    </tr>\n",
       "    <tr>\n",
       "      <th>7</th>\n",
       "      <td>3c3cf5f86ff4816a</td>\n",
       "      <td>NaN</td>\n",
       "      <td>0.065611</td>\n",
       "    </tr>\n",
       "    <tr>\n",
       "      <th>8</th>\n",
       "      <td>fc9ed2682f5031e9</td>\n",
       "      <td>75181 0.070439</td>\n",
       "      <td>0.070439</td>\n",
       "    </tr>\n",
       "    <tr>\n",
       "      <th>9</th>\n",
       "      <td>06a0dd0becc09d9e</td>\n",
       "      <td>56957 0.085647</td>\n",
       "      <td>0.085647</td>\n",
       "    </tr>\n",
       "  </tbody>\n",
       "</table>\n",
       "</div>"
      ],
      "text/plain": [
       "                 id        landmarks     score\n",
       "0  cb9998b8cdaf6235              NaN  0.035033\n",
       "1  30728cf6e50a6bc6   14317 0.113227  0.113227\n",
       "2  16afbc86b710337d              NaN  0.027412\n",
       "3  d29b2166cf522450              NaN  0.015100\n",
       "4  dd5c03b20c21cfba  161152 0.071214  0.071214\n",
       "5  0724ed7fbfe67000              NaN  0.020458\n",
       "6  c67e5d9ef98d533f              NaN  0.042734\n",
       "7  3c3cf5f86ff4816a              NaN  0.065611\n",
       "8  fc9ed2682f5031e9   75181 0.070439  0.070439\n",
       "9  06a0dd0becc09d9e   56957 0.085647  0.085647"
      ]
     },
     "execution_count": 20,
     "metadata": {},
     "output_type": "execute_result"
    }
   ],
   "source": [
    "df.head(10)"
   ]
  },
  {
   "cell_type": "code",
   "execution_count": 18,
   "metadata": {},
   "outputs": [],
   "source": [
    "df2.loc[df2['score'] < 0.19, 'landmarks'] = np.nan"
   ]
  },
  {
   "cell_type": "code",
   "execution_count": 21,
   "metadata": {},
   "outputs": [
    {
     "data": {
      "text/html": [
       "<div>\n",
       "<style scoped>\n",
       "    .dataframe tbody tr th:only-of-type {\n",
       "        vertical-align: middle;\n",
       "    }\n",
       "\n",
       "    .dataframe tbody tr th {\n",
       "        vertical-align: top;\n",
       "    }\n",
       "\n",
       "    .dataframe thead th {\n",
       "        text-align: right;\n",
       "    }\n",
       "</style>\n",
       "<table border=\"1\" class=\"dataframe\">\n",
       "  <thead>\n",
       "    <tr style=\"text-align: right;\">\n",
       "      <th></th>\n",
       "      <th>id</th>\n",
       "      <th>landmarks</th>\n",
       "      <th>score</th>\n",
       "    </tr>\n",
       "  </thead>\n",
       "  <tbody>\n",
       "    <tr>\n",
       "      <th>0</th>\n",
       "      <td>cb9998b8cdaf6235</td>\n",
       "      <td>NaN</td>\n",
       "      <td>0.058669</td>\n",
       "    </tr>\n",
       "    <tr>\n",
       "      <th>1</th>\n",
       "      <td>30728cf6e50a6bc6</td>\n",
       "      <td>NaN</td>\n",
       "      <td>0.065895</td>\n",
       "    </tr>\n",
       "    <tr>\n",
       "      <th>2</th>\n",
       "      <td>16afbc86b710337d</td>\n",
       "      <td>NaN</td>\n",
       "      <td>0.114938</td>\n",
       "    </tr>\n",
       "    <tr>\n",
       "      <th>3</th>\n",
       "      <td>d29b2166cf522450</td>\n",
       "      <td>10648 0.265826</td>\n",
       "      <td>0.265826</td>\n",
       "    </tr>\n",
       "    <tr>\n",
       "      <th>4</th>\n",
       "      <td>dd5c03b20c21cfba</td>\n",
       "      <td>125021 0.951157</td>\n",
       "      <td>0.951157</td>\n",
       "    </tr>\n",
       "    <tr>\n",
       "      <th>5</th>\n",
       "      <td>0724ed7fbfe67000</td>\n",
       "      <td>NaN</td>\n",
       "      <td>0.108469</td>\n",
       "    </tr>\n",
       "    <tr>\n",
       "      <th>6</th>\n",
       "      <td>c67e5d9ef98d533f</td>\n",
       "      <td>NaN</td>\n",
       "      <td>0.042828</td>\n",
       "    </tr>\n",
       "    <tr>\n",
       "      <th>7</th>\n",
       "      <td>3c3cf5f86ff4816a</td>\n",
       "      <td>NaN</td>\n",
       "      <td>0.141003</td>\n",
       "    </tr>\n",
       "    <tr>\n",
       "      <th>8</th>\n",
       "      <td>fc9ed2682f5031e9</td>\n",
       "      <td>NaN</td>\n",
       "      <td>0.157399</td>\n",
       "    </tr>\n",
       "    <tr>\n",
       "      <th>9</th>\n",
       "      <td>06a0dd0becc09d9e</td>\n",
       "      <td>35679 0.877592</td>\n",
       "      <td>0.877592</td>\n",
       "    </tr>\n",
       "  </tbody>\n",
       "</table>\n",
       "</div>"
      ],
      "text/plain": [
       "                 id        landmarks     score\n",
       "0  cb9998b8cdaf6235              NaN  0.058669\n",
       "1  30728cf6e50a6bc6              NaN  0.065895\n",
       "2  16afbc86b710337d              NaN  0.114938\n",
       "3  d29b2166cf522450   10648 0.265826  0.265826\n",
       "4  dd5c03b20c21cfba  125021 0.951157  0.951157\n",
       "5  0724ed7fbfe67000              NaN  0.108469\n",
       "6  c67e5d9ef98d533f              NaN  0.042828\n",
       "7  3c3cf5f86ff4816a              NaN  0.141003\n",
       "8  fc9ed2682f5031e9              NaN  0.157399\n",
       "9  06a0dd0becc09d9e   35679 0.877592  0.877592"
      ]
     },
     "execution_count": 21,
     "metadata": {},
     "output_type": "execute_result"
    }
   ],
   "source": [
    "df2.head(10)"
   ]
  },
  {
   "cell_type": "markdown",
   "metadata": {},
   "source": [
    "# Merge method1: df as primary,  use df2 is df1 is NaN"
   ]
  },
  {
   "cell_type": "code",
   "execution_count": 22,
   "metadata": {},
   "outputs": [
    {
     "data": {
      "text/html": [
       "<div>\n",
       "<style scoped>\n",
       "    .dataframe tbody tr th:only-of-type {\n",
       "        vertical-align: middle;\n",
       "    }\n",
       "\n",
       "    .dataframe tbody tr th {\n",
       "        vertical-align: top;\n",
       "    }\n",
       "\n",
       "    .dataframe thead th {\n",
       "        text-align: right;\n",
       "    }\n",
       "</style>\n",
       "<table border=\"1\" class=\"dataframe\">\n",
       "  <thead>\n",
       "    <tr style=\"text-align: right;\">\n",
       "      <th></th>\n",
       "      <th>id</th>\n",
       "      <th>landmarks</th>\n",
       "      <th>score</th>\n",
       "    </tr>\n",
       "  </thead>\n",
       "  <tbody>\n",
       "    <tr>\n",
       "      <th>0</th>\n",
       "      <td>cb9998b8cdaf6235</td>\n",
       "      <td>189295 0.058669</td>\n",
       "      <td>0.058669</td>\n",
       "    </tr>\n",
       "    <tr>\n",
       "      <th>1</th>\n",
       "      <td>30728cf6e50a6bc6</td>\n",
       "      <td>200037 0.065895</td>\n",
       "      <td>0.065895</td>\n",
       "    </tr>\n",
       "    <tr>\n",
       "      <th>2</th>\n",
       "      <td>16afbc86b710337d</td>\n",
       "      <td>60643 0.114938</td>\n",
       "      <td>0.114938</td>\n",
       "    </tr>\n",
       "    <tr>\n",
       "      <th>3</th>\n",
       "      <td>d29b2166cf522450</td>\n",
       "      <td>10648 0.265826</td>\n",
       "      <td>0.265826</td>\n",
       "    </tr>\n",
       "    <tr>\n",
       "      <th>4</th>\n",
       "      <td>dd5c03b20c21cfba</td>\n",
       "      <td>125021 0.951157</td>\n",
       "      <td>0.951157</td>\n",
       "    </tr>\n",
       "  </tbody>\n",
       "</table>\n",
       "</div>"
      ],
      "text/plain": [
       "                 id        landmarks     score\n",
       "0  cb9998b8cdaf6235  189295 0.058669  0.058669\n",
       "1  30728cf6e50a6bc6  200037 0.065895  0.065895\n",
       "2  16afbc86b710337d   60643 0.114938  0.114938\n",
       "3  d29b2166cf522450   10648 0.265826  0.265826\n",
       "4  dd5c03b20c21cfba  125021 0.951157  0.951157"
      ]
     },
     "execution_count": 22,
     "metadata": {},
     "output_type": "execute_result"
    }
   ],
   "source": [
    "df2 = pd.read_csv('output/sub_seresnext5032x4d_50000_50000_4320.csv')\n",
    "df2['score'] = df2.landmarks.map(lambda x: 0. if pd.isna(x) else float(x.split(' ')[1]))\n",
    "df2.head()"
   ]
  },
  {
   "cell_type": "code",
   "execution_count": 23,
   "metadata": {},
   "outputs": [
    {
     "data": {
      "text/html": [
       "<div>\n",
       "<style scoped>\n",
       "    .dataframe tbody tr th:only-of-type {\n",
       "        vertical-align: middle;\n",
       "    }\n",
       "\n",
       "    .dataframe tbody tr th {\n",
       "        vertical-align: top;\n",
       "    }\n",
       "\n",
       "    .dataframe thead th {\n",
       "        text-align: right;\n",
       "    }\n",
       "</style>\n",
       "<table border=\"1\" class=\"dataframe\">\n",
       "  <thead>\n",
       "    <tr style=\"text-align: right;\">\n",
       "      <th></th>\n",
       "      <th>id</th>\n",
       "      <th>landmarks</th>\n",
       "      <th>score</th>\n",
       "    </tr>\n",
       "  </thead>\n",
       "  <tbody>\n",
       "    <tr>\n",
       "      <th>0</th>\n",
       "      <td>cb9998b8cdaf6235</td>\n",
       "      <td>NaN</td>\n",
       "      <td>0.035033</td>\n",
       "    </tr>\n",
       "    <tr>\n",
       "      <th>1</th>\n",
       "      <td>30728cf6e50a6bc6</td>\n",
       "      <td>14317 0.113227</td>\n",
       "      <td>0.113227</td>\n",
       "    </tr>\n",
       "    <tr>\n",
       "      <th>2</th>\n",
       "      <td>16afbc86b710337d</td>\n",
       "      <td>NaN</td>\n",
       "      <td>0.027412</td>\n",
       "    </tr>\n",
       "    <tr>\n",
       "      <th>3</th>\n",
       "      <td>d29b2166cf522450</td>\n",
       "      <td>NaN</td>\n",
       "      <td>0.015100</td>\n",
       "    </tr>\n",
       "    <tr>\n",
       "      <th>4</th>\n",
       "      <td>dd5c03b20c21cfba</td>\n",
       "      <td>161152 0.071214</td>\n",
       "      <td>0.071214</td>\n",
       "    </tr>\n",
       "  </tbody>\n",
       "</table>\n",
       "</div>"
      ],
      "text/plain": [
       "                 id        landmarks     score\n",
       "0  cb9998b8cdaf6235              NaN  0.035033\n",
       "1  30728cf6e50a6bc6   14317 0.113227  0.113227\n",
       "2  16afbc86b710337d              NaN  0.027412\n",
       "3  d29b2166cf522450              NaN  0.015100\n",
       "4  dd5c03b20c21cfba  161152 0.071214  0.071214"
      ]
     },
     "execution_count": 23,
     "metadata": {},
     "output_type": "execute_result"
    }
   ],
   "source": [
    "df_merged = df.copy()\n",
    "df_merged.head()"
   ]
  },
  {
   "cell_type": "code",
   "execution_count": 24,
   "metadata": {},
   "outputs": [
    {
     "data": {
      "text/html": [
       "<div>\n",
       "<style scoped>\n",
       "    .dataframe tbody tr th:only-of-type {\n",
       "        vertical-align: middle;\n",
       "    }\n",
       "\n",
       "    .dataframe tbody tr th {\n",
       "        vertical-align: top;\n",
       "    }\n",
       "\n",
       "    .dataframe thead th {\n",
       "        text-align: right;\n",
       "    }\n",
       "</style>\n",
       "<table border=\"1\" class=\"dataframe\">\n",
       "  <thead>\n",
       "    <tr style=\"text-align: right;\">\n",
       "      <th></th>\n",
       "      <th>id</th>\n",
       "      <th>landmarks</th>\n",
       "      <th>score</th>\n",
       "      <th>landmarks2</th>\n",
       "    </tr>\n",
       "  </thead>\n",
       "  <tbody>\n",
       "    <tr>\n",
       "      <th>0</th>\n",
       "      <td>cb9998b8cdaf6235</td>\n",
       "      <td>NaN</td>\n",
       "      <td>0.035033</td>\n",
       "      <td>189295 0.058669</td>\n",
       "    </tr>\n",
       "    <tr>\n",
       "      <th>1</th>\n",
       "      <td>30728cf6e50a6bc6</td>\n",
       "      <td>14317 0.113227</td>\n",
       "      <td>0.113227</td>\n",
       "      <td>200037 0.065895</td>\n",
       "    </tr>\n",
       "    <tr>\n",
       "      <th>2</th>\n",
       "      <td>16afbc86b710337d</td>\n",
       "      <td>NaN</td>\n",
       "      <td>0.027412</td>\n",
       "      <td>60643 0.114938</td>\n",
       "    </tr>\n",
       "    <tr>\n",
       "      <th>3</th>\n",
       "      <td>d29b2166cf522450</td>\n",
       "      <td>NaN</td>\n",
       "      <td>0.015100</td>\n",
       "      <td>10648 0.265826</td>\n",
       "    </tr>\n",
       "    <tr>\n",
       "      <th>4</th>\n",
       "      <td>dd5c03b20c21cfba</td>\n",
       "      <td>161152 0.071214</td>\n",
       "      <td>0.071214</td>\n",
       "      <td>125021 0.951157</td>\n",
       "    </tr>\n",
       "  </tbody>\n",
       "</table>\n",
       "</div>"
      ],
      "text/plain": [
       "                 id        landmarks     score       landmarks2\n",
       "0  cb9998b8cdaf6235              NaN  0.035033  189295 0.058669\n",
       "1  30728cf6e50a6bc6   14317 0.113227  0.113227  200037 0.065895\n",
       "2  16afbc86b710337d              NaN  0.027412   60643 0.114938\n",
       "3  d29b2166cf522450              NaN  0.015100   10648 0.265826\n",
       "4  dd5c03b20c21cfba  161152 0.071214  0.071214  125021 0.951157"
      ]
     },
     "execution_count": 24,
     "metadata": {},
     "output_type": "execute_result"
    }
   ],
   "source": [
    "df_merged['landmarks2'] = df2.landmarks\n",
    "df_merged.head()"
   ]
  },
  {
   "cell_type": "code",
   "execution_count": 25,
   "metadata": {},
   "outputs": [],
   "source": [
    "df_merged.loc[df_merged['landmarks'].isna(), 'landmarks'] = df_merged.landmarks2"
   ]
  },
  {
   "cell_type": "code",
   "execution_count": 33,
   "metadata": {},
   "outputs": [
    {
     "data": {
      "text/html": [
       "<div>\n",
       "<style scoped>\n",
       "    .dataframe tbody tr th:only-of-type {\n",
       "        vertical-align: middle;\n",
       "    }\n",
       "\n",
       "    .dataframe tbody tr th {\n",
       "        vertical-align: top;\n",
       "    }\n",
       "\n",
       "    .dataframe thead th {\n",
       "        text-align: right;\n",
       "    }\n",
       "</style>\n",
       "<table border=\"1\" class=\"dataframe\">\n",
       "  <thead>\n",
       "    <tr style=\"text-align: right;\">\n",
       "      <th></th>\n",
       "      <th>id</th>\n",
       "      <th>landmarks</th>\n",
       "      <th>score</th>\n",
       "      <th>landmarks2</th>\n",
       "    </tr>\n",
       "  </thead>\n",
       "  <tbody>\n",
       "    <tr>\n",
       "      <th>0</th>\n",
       "      <td>cb9998b8cdaf6235</td>\n",
       "      <td>189295 0.058669</td>\n",
       "      <td>0.035033</td>\n",
       "      <td>189295 0.058669</td>\n",
       "    </tr>\n",
       "    <tr>\n",
       "      <th>1</th>\n",
       "      <td>30728cf6e50a6bc6</td>\n",
       "      <td>14317 0.113227</td>\n",
       "      <td>0.113227</td>\n",
       "      <td>200037 0.065895</td>\n",
       "    </tr>\n",
       "    <tr>\n",
       "      <th>2</th>\n",
       "      <td>16afbc86b710337d</td>\n",
       "      <td>60643 0.114938</td>\n",
       "      <td>0.027412</td>\n",
       "      <td>60643 0.114938</td>\n",
       "    </tr>\n",
       "    <tr>\n",
       "      <th>3</th>\n",
       "      <td>d29b2166cf522450</td>\n",
       "      <td>10648 0.265826</td>\n",
       "      <td>0.015100</td>\n",
       "      <td>10648 0.265826</td>\n",
       "    </tr>\n",
       "    <tr>\n",
       "      <th>4</th>\n",
       "      <td>dd5c03b20c21cfba</td>\n",
       "      <td>161152 0.071214</td>\n",
       "      <td>0.071214</td>\n",
       "      <td>125021 0.951157</td>\n",
       "    </tr>\n",
       "  </tbody>\n",
       "</table>\n",
       "</div>"
      ],
      "text/plain": [
       "                 id        landmarks     score       landmarks2\n",
       "0  cb9998b8cdaf6235  189295 0.058669  0.035033  189295 0.058669\n",
       "1  30728cf6e50a6bc6   14317 0.113227  0.113227  200037 0.065895\n",
       "2  16afbc86b710337d   60643 0.114938  0.027412   60643 0.114938\n",
       "3  d29b2166cf522450   10648 0.265826  0.015100   10648 0.265826\n",
       "4  dd5c03b20c21cfba  161152 0.071214  0.071214  125021 0.951157"
      ]
     },
     "execution_count": 33,
     "metadata": {},
     "output_type": "execute_result"
    }
   ],
   "source": [
    "df_merged.head()"
   ]
  },
  {
   "cell_type": "code",
   "execution_count": 34,
   "metadata": {},
   "outputs": [
    {
     "name": "stdout",
     "output_type": "stream",
     "text": [
      "(4049, 3) (4049, 4) (73072, 3)\n"
     ]
    }
   ],
   "source": [
    "print(df2[df2.landmarks.isna()].shape, df_merged[df_merged.landmarks.isna()].shape, df[df.landmarks.isna()].shape)"
   ]
  },
  {
   "cell_type": "code",
   "execution_count": 32,
   "metadata": {},
   "outputs": [],
   "source": [
    "df_merged.to_csv('output/ens_merge_100k_classes_primary40_second.csv', index=False, columns=['id', 'landmarks'])"
   ]
  },
  {
   "cell_type": "markdown",
   "metadata": {},
   "source": [
    "# merge method2: top40, top30"
   ]
  },
  {
   "cell_type": "code",
   "execution_count": 35,
   "metadata": {},
   "outputs": [
    {
     "data": {
      "text/html": [
       "<div>\n",
       "<style scoped>\n",
       "    .dataframe tbody tr th:only-of-type {\n",
       "        vertical-align: middle;\n",
       "    }\n",
       "\n",
       "    .dataframe tbody tr th {\n",
       "        vertical-align: top;\n",
       "    }\n",
       "\n",
       "    .dataframe thead th {\n",
       "        text-align: right;\n",
       "    }\n",
       "</style>\n",
       "<table border=\"1\" class=\"dataframe\">\n",
       "  <thead>\n",
       "    <tr style=\"text-align: right;\">\n",
       "      <th></th>\n",
       "      <th>id</th>\n",
       "      <th>landmarks</th>\n",
       "      <th>score</th>\n",
       "    </tr>\n",
       "  </thead>\n",
       "  <tbody>\n",
       "    <tr>\n",
       "      <th>0</th>\n",
       "      <td>cb9998b8cdaf6235</td>\n",
       "      <td>189295 0.058669</td>\n",
       "      <td>0.058669</td>\n",
       "    </tr>\n",
       "    <tr>\n",
       "      <th>1</th>\n",
       "      <td>30728cf6e50a6bc6</td>\n",
       "      <td>200037 0.065895</td>\n",
       "      <td>0.065895</td>\n",
       "    </tr>\n",
       "    <tr>\n",
       "      <th>2</th>\n",
       "      <td>16afbc86b710337d</td>\n",
       "      <td>60643 0.114938</td>\n",
       "      <td>0.114938</td>\n",
       "    </tr>\n",
       "    <tr>\n",
       "      <th>3</th>\n",
       "      <td>d29b2166cf522450</td>\n",
       "      <td>10648 0.265826</td>\n",
       "      <td>0.265826</td>\n",
       "    </tr>\n",
       "    <tr>\n",
       "      <th>4</th>\n",
       "      <td>dd5c03b20c21cfba</td>\n",
       "      <td>125021 0.951157</td>\n",
       "      <td>0.951157</td>\n",
       "    </tr>\n",
       "  </tbody>\n",
       "</table>\n",
       "</div>"
      ],
      "text/plain": [
       "                 id        landmarks     score\n",
       "0  cb9998b8cdaf6235  189295 0.058669  0.058669\n",
       "1  30728cf6e50a6bc6  200037 0.065895  0.065895\n",
       "2  16afbc86b710337d   60643 0.114938  0.114938\n",
       "3  d29b2166cf522450   10648 0.265826  0.265826\n",
       "4  dd5c03b20c21cfba  125021 0.951157  0.951157"
      ]
     },
     "execution_count": 35,
     "metadata": {},
     "output_type": "execute_result"
    }
   ],
   "source": [
    "df2.head()"
   ]
  },
  {
   "cell_type": "code",
   "execution_count": 36,
   "metadata": {},
   "outputs": [
    {
     "data": {
      "text/plain": [
       "0.7094806419547505"
      ]
     },
     "execution_count": 36,
     "metadata": {},
     "output_type": "execute_result"
    }
   ],
   "source": [
    "df2[df2.score < 0.19].shape[0] / df2.shape[0]"
   ]
  },
  {
   "cell_type": "code",
   "execution_count": 37,
   "metadata": {},
   "outputs": [
    {
     "data": {
      "text/html": [
       "<div>\n",
       "<style scoped>\n",
       "    .dataframe tbody tr th:only-of-type {\n",
       "        vertical-align: middle;\n",
       "    }\n",
       "\n",
       "    .dataframe tbody tr th {\n",
       "        vertical-align: top;\n",
       "    }\n",
       "\n",
       "    .dataframe thead th {\n",
       "        text-align: right;\n",
       "    }\n",
       "</style>\n",
       "<table border=\"1\" class=\"dataframe\">\n",
       "  <thead>\n",
       "    <tr style=\"text-align: right;\">\n",
       "      <th></th>\n",
       "      <th>id</th>\n",
       "      <th>landmarks</th>\n",
       "      <th>score</th>\n",
       "    </tr>\n",
       "  </thead>\n",
       "  <tbody>\n",
       "    <tr>\n",
       "      <th>0</th>\n",
       "      <td>cb9998b8cdaf6235</td>\n",
       "      <td>NaN</td>\n",
       "      <td>0.058669</td>\n",
       "    </tr>\n",
       "    <tr>\n",
       "      <th>1</th>\n",
       "      <td>30728cf6e50a6bc6</td>\n",
       "      <td>NaN</td>\n",
       "      <td>0.065895</td>\n",
       "    </tr>\n",
       "    <tr>\n",
       "      <th>2</th>\n",
       "      <td>16afbc86b710337d</td>\n",
       "      <td>NaN</td>\n",
       "      <td>0.114938</td>\n",
       "    </tr>\n",
       "    <tr>\n",
       "      <th>3</th>\n",
       "      <td>d29b2166cf522450</td>\n",
       "      <td>10648 0.265826</td>\n",
       "      <td>0.265826</td>\n",
       "    </tr>\n",
       "    <tr>\n",
       "      <th>4</th>\n",
       "      <td>dd5c03b20c21cfba</td>\n",
       "      <td>125021 0.951157</td>\n",
       "      <td>0.951157</td>\n",
       "    </tr>\n",
       "  </tbody>\n",
       "</table>\n",
       "</div>"
      ],
      "text/plain": [
       "                 id        landmarks     score\n",
       "0  cb9998b8cdaf6235              NaN  0.058669\n",
       "1  30728cf6e50a6bc6              NaN  0.065895\n",
       "2  16afbc86b710337d              NaN  0.114938\n",
       "3  d29b2166cf522450   10648 0.265826  0.265826\n",
       "4  dd5c03b20c21cfba  125021 0.951157  0.951157"
      ]
     },
     "execution_count": 37,
     "metadata": {},
     "output_type": "execute_result"
    }
   ],
   "source": [
    "df2.loc[df2['score'] < 0.19, 'landmarks'] = np.nan\n",
    "df2.head()"
   ]
  },
  {
   "cell_type": "code",
   "execution_count": 38,
   "metadata": {},
   "outputs": [
    {
     "data": {
      "text/html": [
       "<div>\n",
       "<style scoped>\n",
       "    .dataframe tbody tr th:only-of-type {\n",
       "        vertical-align: middle;\n",
       "    }\n",
       "\n",
       "    .dataframe tbody tr th {\n",
       "        vertical-align: top;\n",
       "    }\n",
       "\n",
       "    .dataframe thead th {\n",
       "        text-align: right;\n",
       "    }\n",
       "</style>\n",
       "<table border=\"1\" class=\"dataframe\">\n",
       "  <thead>\n",
       "    <tr style=\"text-align: right;\">\n",
       "      <th></th>\n",
       "      <th>id</th>\n",
       "      <th>landmarks</th>\n",
       "      <th>score</th>\n",
       "    </tr>\n",
       "  </thead>\n",
       "  <tbody>\n",
       "    <tr>\n",
       "      <th>0</th>\n",
       "      <td>cb9998b8cdaf6235</td>\n",
       "      <td>NaN</td>\n",
       "      <td>0.035033</td>\n",
       "    </tr>\n",
       "    <tr>\n",
       "      <th>1</th>\n",
       "      <td>30728cf6e50a6bc6</td>\n",
       "      <td>14317 0.113227</td>\n",
       "      <td>0.113227</td>\n",
       "    </tr>\n",
       "    <tr>\n",
       "      <th>2</th>\n",
       "      <td>16afbc86b710337d</td>\n",
       "      <td>NaN</td>\n",
       "      <td>0.027412</td>\n",
       "    </tr>\n",
       "    <tr>\n",
       "      <th>3</th>\n",
       "      <td>d29b2166cf522450</td>\n",
       "      <td>NaN</td>\n",
       "      <td>0.015100</td>\n",
       "    </tr>\n",
       "    <tr>\n",
       "      <th>4</th>\n",
       "      <td>dd5c03b20c21cfba</td>\n",
       "      <td>161152 0.071214</td>\n",
       "      <td>0.071214</td>\n",
       "    </tr>\n",
       "  </tbody>\n",
       "</table>\n",
       "</div>"
      ],
      "text/plain": [
       "                 id        landmarks     score\n",
       "0  cb9998b8cdaf6235              NaN  0.035033\n",
       "1  30728cf6e50a6bc6   14317 0.113227  0.113227\n",
       "2  16afbc86b710337d              NaN  0.027412\n",
       "3  d29b2166cf522450              NaN  0.015100\n",
       "4  dd5c03b20c21cfba  161152 0.071214  0.071214"
      ]
     },
     "execution_count": 38,
     "metadata": {},
     "output_type": "execute_result"
    }
   ],
   "source": [
    "df_merged = df.copy()\n",
    "df_merged.head()"
   ]
  },
  {
   "cell_type": "code",
   "execution_count": 39,
   "metadata": {},
   "outputs": [
    {
     "data": {
      "text/plain": [
       "0.6208168016108341"
      ]
     },
     "execution_count": 39,
     "metadata": {},
     "output_type": "execute_result"
    }
   ],
   "source": [
    "df_merged[df_merged.landmarks.isna()].shape[0] / df_merged.shape[0]"
   ]
  },
  {
   "cell_type": "code",
   "execution_count": 40,
   "metadata": {},
   "outputs": [
    {
     "data": {
      "text/html": [
       "<div>\n",
       "<style scoped>\n",
       "    .dataframe tbody tr th:only-of-type {\n",
       "        vertical-align: middle;\n",
       "    }\n",
       "\n",
       "    .dataframe tbody tr th {\n",
       "        vertical-align: top;\n",
       "    }\n",
       "\n",
       "    .dataframe thead th {\n",
       "        text-align: right;\n",
       "    }\n",
       "</style>\n",
       "<table border=\"1\" class=\"dataframe\">\n",
       "  <thead>\n",
       "    <tr style=\"text-align: right;\">\n",
       "      <th></th>\n",
       "      <th>id</th>\n",
       "      <th>landmarks</th>\n",
       "      <th>score</th>\n",
       "      <th>landmarks2</th>\n",
       "    </tr>\n",
       "  </thead>\n",
       "  <tbody>\n",
       "    <tr>\n",
       "      <th>0</th>\n",
       "      <td>cb9998b8cdaf6235</td>\n",
       "      <td>NaN</td>\n",
       "      <td>0.035033</td>\n",
       "      <td>NaN</td>\n",
       "    </tr>\n",
       "    <tr>\n",
       "      <th>1</th>\n",
       "      <td>30728cf6e50a6bc6</td>\n",
       "      <td>14317 0.113227</td>\n",
       "      <td>0.113227</td>\n",
       "      <td>NaN</td>\n",
       "    </tr>\n",
       "    <tr>\n",
       "      <th>2</th>\n",
       "      <td>16afbc86b710337d</td>\n",
       "      <td>NaN</td>\n",
       "      <td>0.027412</td>\n",
       "      <td>NaN</td>\n",
       "    </tr>\n",
       "    <tr>\n",
       "      <th>3</th>\n",
       "      <td>d29b2166cf522450</td>\n",
       "      <td>NaN</td>\n",
       "      <td>0.015100</td>\n",
       "      <td>10648 0.265826</td>\n",
       "    </tr>\n",
       "    <tr>\n",
       "      <th>4</th>\n",
       "      <td>dd5c03b20c21cfba</td>\n",
       "      <td>161152 0.071214</td>\n",
       "      <td>0.071214</td>\n",
       "      <td>125021 0.951157</td>\n",
       "    </tr>\n",
       "  </tbody>\n",
       "</table>\n",
       "</div>"
      ],
      "text/plain": [
       "                 id        landmarks     score       landmarks2\n",
       "0  cb9998b8cdaf6235              NaN  0.035033              NaN\n",
       "1  30728cf6e50a6bc6   14317 0.113227  0.113227              NaN\n",
       "2  16afbc86b710337d              NaN  0.027412              NaN\n",
       "3  d29b2166cf522450              NaN  0.015100   10648 0.265826\n",
       "4  dd5c03b20c21cfba  161152 0.071214  0.071214  125021 0.951157"
      ]
     },
     "execution_count": 40,
     "metadata": {},
     "output_type": "execute_result"
    }
   ],
   "source": [
    "df_merged['landmarks2'] = df2.landmarks\n",
    "df_merged.head()"
   ]
  },
  {
   "cell_type": "code",
   "execution_count": 41,
   "metadata": {},
   "outputs": [
    {
     "data": {
      "text/html": [
       "<div>\n",
       "<style scoped>\n",
       "    .dataframe tbody tr th:only-of-type {\n",
       "        vertical-align: middle;\n",
       "    }\n",
       "\n",
       "    .dataframe tbody tr th {\n",
       "        vertical-align: top;\n",
       "    }\n",
       "\n",
       "    .dataframe thead th {\n",
       "        text-align: right;\n",
       "    }\n",
       "</style>\n",
       "<table border=\"1\" class=\"dataframe\">\n",
       "  <thead>\n",
       "    <tr style=\"text-align: right;\">\n",
       "      <th></th>\n",
       "      <th>id</th>\n",
       "      <th>landmarks</th>\n",
       "      <th>score</th>\n",
       "      <th>landmarks2</th>\n",
       "    </tr>\n",
       "  </thead>\n",
       "  <tbody>\n",
       "    <tr>\n",
       "      <th>0</th>\n",
       "      <td>cb9998b8cdaf6235</td>\n",
       "      <td>NaN</td>\n",
       "      <td>0.035033</td>\n",
       "      <td>NaN</td>\n",
       "    </tr>\n",
       "    <tr>\n",
       "      <th>1</th>\n",
       "      <td>30728cf6e50a6bc6</td>\n",
       "      <td>14317 0.113227</td>\n",
       "      <td>0.113227</td>\n",
       "      <td>NaN</td>\n",
       "    </tr>\n",
       "    <tr>\n",
       "      <th>2</th>\n",
       "      <td>16afbc86b710337d</td>\n",
       "      <td>NaN</td>\n",
       "      <td>0.027412</td>\n",
       "      <td>NaN</td>\n",
       "    </tr>\n",
       "    <tr>\n",
       "      <th>3</th>\n",
       "      <td>d29b2166cf522450</td>\n",
       "      <td>10648 0.265826</td>\n",
       "      <td>0.015100</td>\n",
       "      <td>10648 0.265826</td>\n",
       "    </tr>\n",
       "    <tr>\n",
       "      <th>4</th>\n",
       "      <td>dd5c03b20c21cfba</td>\n",
       "      <td>161152 0.071214</td>\n",
       "      <td>0.071214</td>\n",
       "      <td>125021 0.951157</td>\n",
       "    </tr>\n",
       "  </tbody>\n",
       "</table>\n",
       "</div>"
      ],
      "text/plain": [
       "                 id        landmarks     score       landmarks2\n",
       "0  cb9998b8cdaf6235              NaN  0.035033              NaN\n",
       "1  30728cf6e50a6bc6   14317 0.113227  0.113227              NaN\n",
       "2  16afbc86b710337d              NaN  0.027412              NaN\n",
       "3  d29b2166cf522450   10648 0.265826  0.015100   10648 0.265826\n",
       "4  dd5c03b20c21cfba  161152 0.071214  0.071214  125021 0.951157"
      ]
     },
     "execution_count": 41,
     "metadata": {},
     "output_type": "execute_result"
    }
   ],
   "source": [
    "df_merged.loc[df_merged['landmarks'].isna(), 'landmarks'] = df_merged.landmarks2\n",
    "df_merged.head()"
   ]
  },
  {
   "cell_type": "code",
   "execution_count": 42,
   "metadata": {},
   "outputs": [
    {
     "data": {
      "text/plain": [
       "0.47573978573188447"
      ]
     },
     "execution_count": 42,
     "metadata": {},
     "output_type": "execute_result"
    }
   ],
   "source": [
    "df_merged[df_merged.landmarks.isna()].shape[0] / df_merged.shape[0]"
   ]
  },
  {
   "cell_type": "code",
   "execution_count": 43,
   "metadata": {},
   "outputs": [],
   "source": [
    "df_merged.to_csv('output/ens_merge_100k_classes_40_30.csv', index=False, columns=['id', 'landmarks'])"
   ]
  },
  {
   "cell_type": "code",
   "execution_count": 49,
   "metadata": {},
   "outputs": [
    {
     "data": {
      "text/html": [
       "<div>\n",
       "<style scoped>\n",
       "    .dataframe tbody tr th:only-of-type {\n",
       "        vertical-align: middle;\n",
       "    }\n",
       "\n",
       "    .dataframe tbody tr th {\n",
       "        vertical-align: top;\n",
       "    }\n",
       "\n",
       "    .dataframe thead th {\n",
       "        text-align: right;\n",
       "    }\n",
       "</style>\n",
       "<table border=\"1\" class=\"dataframe\">\n",
       "  <thead>\n",
       "    <tr style=\"text-align: right;\">\n",
       "      <th></th>\n",
       "      <th>id</th>\n",
       "      <th>landmarks</th>\n",
       "      <th>score</th>\n",
       "    </tr>\n",
       "  </thead>\n",
       "  <tbody>\n",
       "    <tr>\n",
       "      <th>0</th>\n",
       "      <td>cb9998b8cdaf6235</td>\n",
       "      <td>NaN</td>\n",
       "      <td>0.035033</td>\n",
       "    </tr>\n",
       "    <tr>\n",
       "      <th>1</th>\n",
       "      <td>30728cf6e50a6bc6</td>\n",
       "      <td>14317 0.113227</td>\n",
       "      <td>0.113227</td>\n",
       "    </tr>\n",
       "    <tr>\n",
       "      <th>2</th>\n",
       "      <td>16afbc86b710337d</td>\n",
       "      <td>NaN</td>\n",
       "      <td>0.027412</td>\n",
       "    </tr>\n",
       "    <tr>\n",
       "      <th>3</th>\n",
       "      <td>d29b2166cf522450</td>\n",
       "      <td>NaN</td>\n",
       "      <td>0.015100</td>\n",
       "    </tr>\n",
       "    <tr>\n",
       "      <th>4</th>\n",
       "      <td>dd5c03b20c21cfba</td>\n",
       "      <td>161152 0.071214</td>\n",
       "      <td>0.071214</td>\n",
       "    </tr>\n",
       "  </tbody>\n",
       "</table>\n",
       "</div>"
      ],
      "text/plain": [
       "                 id        landmarks     score\n",
       "0  cb9998b8cdaf6235              NaN  0.035033\n",
       "1  30728cf6e50a6bc6   14317 0.113227  0.113227\n",
       "2  16afbc86b710337d              NaN  0.027412\n",
       "3  d29b2166cf522450              NaN  0.015100\n",
       "4  dd5c03b20c21cfba  161152 0.071214  0.071214"
      ]
     },
     "execution_count": 49,
     "metadata": {},
     "output_type": "execute_result"
    }
   ],
   "source": [
    "df.head()"
   ]
  },
  {
   "cell_type": "code",
   "execution_count": 58,
   "metadata": {},
   "outputs": [
    {
     "data": {
      "text/plain": [
       "44631"
      ]
     },
     "execution_count": 58,
     "metadata": {},
     "output_type": "execute_result"
    }
   ],
   "source": [
    "(df_merged.landmarks == df.landmarks).astype(np.int).sum()"
   ]
  },
  {
   "cell_type": "code",
   "execution_count": 54,
   "metadata": {},
   "outputs": [
    {
     "data": {
      "text/plain": [
       "55996"
      ]
     },
     "execution_count": 54,
     "metadata": {},
     "output_type": "execute_result"
    }
   ],
   "source": [
    "(df_merged.landmarks.isna()).astype(np.int).sum()"
   ]
  },
  {
   "cell_type": "code",
   "execution_count": 56,
   "metadata": {},
   "outputs": [
    {
     "data": {
      "text/plain": [
       "17076"
      ]
     },
     "execution_count": 56,
     "metadata": {},
     "output_type": "execute_result"
    }
   ],
   "source": [
    " (df_merged.landmarks == df2.landmarks).astype(np.int).sum()"
   ]
  },
  {
   "cell_type": "code",
   "execution_count": null,
   "metadata": {},
   "outputs": [],
   "source": []
  },
  {
   "cell_type": "code",
   "execution_count": 31,
   "metadata": {},
   "outputs": [],
   "source": [
    "df.to_csv('output/ens_4_models_50000_setnan_018.csv', index=False, columns=['id', 'landmarks'])"
   ]
  },
  {
   "cell_type": "code",
   "execution_count": 36,
   "metadata": {},
   "outputs": [],
   "source": [
    "df.loc[df['score'] < 0.035, 'landmarks'] = np.nan"
   ]
  },
  {
   "cell_type": "code",
   "execution_count": 37,
   "metadata": {},
   "outputs": [],
   "source": [
    "df.to_csv('output/ens_4_models_50000_setnan_035.csv', index=False, columns=['id', 'landmarks'])"
   ]
  },
  {
   "cell_type": "code",
   "execution_count": 42,
   "metadata": {},
   "outputs": [],
   "source": [
    "df.loc[df['score'] < 0.07, 'landmarks'] = np.nan"
   ]
  },
  {
   "cell_type": "code",
   "execution_count": 43,
   "metadata": {},
   "outputs": [],
   "source": [
    "df.to_csv('output/ens_4_models_50000_setnan_07.csv', index=False, columns=['id', 'landmarks'])"
   ]
  },
  {
   "cell_type": "code",
   "execution_count": 44,
   "metadata": {},
   "outputs": [
    {
     "data": {
      "text/html": [
       "<div>\n",
       "<style scoped>\n",
       "    .dataframe tbody tr th:only-of-type {\n",
       "        vertical-align: middle;\n",
       "    }\n",
       "\n",
       "    .dataframe tbody tr th {\n",
       "        vertical-align: top;\n",
       "    }\n",
       "\n",
       "    .dataframe thead th {\n",
       "        text-align: right;\n",
       "    }\n",
       "</style>\n",
       "<table border=\"1\" class=\"dataframe\">\n",
       "  <thead>\n",
       "    <tr style=\"text-align: right;\">\n",
       "      <th></th>\n",
       "      <th>id</th>\n",
       "      <th>landmarks</th>\n",
       "      <th>score</th>\n",
       "    </tr>\n",
       "  </thead>\n",
       "  <tbody>\n",
       "    <tr>\n",
       "      <th>0</th>\n",
       "      <td>cb9998b8cdaf6235</td>\n",
       "      <td>NaN</td>\n",
       "      <td>0.035033</td>\n",
       "    </tr>\n",
       "    <tr>\n",
       "      <th>1</th>\n",
       "      <td>30728cf6e50a6bc6</td>\n",
       "      <td>14317 0.113227</td>\n",
       "      <td>0.113227</td>\n",
       "    </tr>\n",
       "    <tr>\n",
       "      <th>2</th>\n",
       "      <td>16afbc86b710337d</td>\n",
       "      <td>NaN</td>\n",
       "      <td>0.027412</td>\n",
       "    </tr>\n",
       "    <tr>\n",
       "      <th>3</th>\n",
       "      <td>d29b2166cf522450</td>\n",
       "      <td>NaN</td>\n",
       "      <td>0.015100</td>\n",
       "    </tr>\n",
       "    <tr>\n",
       "      <th>4</th>\n",
       "      <td>dd5c03b20c21cfba</td>\n",
       "      <td>161152 0.071214</td>\n",
       "      <td>0.071214</td>\n",
       "    </tr>\n",
       "  </tbody>\n",
       "</table>\n",
       "</div>"
      ],
      "text/plain": [
       "                 id        landmarks     score\n",
       "0  cb9998b8cdaf6235              NaN  0.035033\n",
       "1  30728cf6e50a6bc6   14317 0.113227  0.113227\n",
       "2  16afbc86b710337d              NaN  0.027412\n",
       "3  d29b2166cf522450              NaN  0.015100\n",
       "4  dd5c03b20c21cfba  161152 0.071214  0.071214"
      ]
     },
     "execution_count": 44,
     "metadata": {},
     "output_type": "execute_result"
    }
   ],
   "source": [
    "df.head()"
   ]
  },
  {
   "cell_type": "code",
   "execution_count": null,
   "metadata": {},
   "outputs": [],
   "source": []
  }
 ],
 "metadata": {
  "kernelspec": {
   "display_name": "Python 3",
   "language": "python",
   "name": "python3"
  },
  "language_info": {
   "codemirror_mode": {
    "name": "ipython",
    "version": 3
   },
   "file_extension": ".py",
   "mimetype": "text/x-python",
   "name": "python",
   "nbconvert_exporter": "python",
   "pygments_lexer": "ipython3",
   "version": "3.6.7"
  }
 },
 "nbformat": 4,
 "nbformat_minor": 2
}
