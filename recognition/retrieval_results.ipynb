{
 "cells": [
  {
   "cell_type": "code",
   "execution_count": 2,
   "metadata": {},
   "outputs": [
    {
     "name": "stdout",
     "output_type": "stream",
     "text": [
      "D_tmp.npy\t\t\t\t\t\t founds_tmp.npy\r\n",
      "FeatureNet_se_resnext50_32x4d.index_retrieval\t\t global_noresize\r\n",
      "FeatureNetV2_se_resnext50_32x4d.index_retrieval_2\t I_tmp.npy\r\n",
      "FeatureNetV2_se_resnext50_32x4d.index_retrieval_2_local  local\r\n"
     ]
    }
   ],
   "source": [
    "!ls /mnt/chicm/data/retrieval/vectors"
   ]
  },
  {
   "cell_type": "code",
   "execution_count": 8,
   "metadata": {},
   "outputs": [],
   "source": [
    "VECTOR_DIR = '/mnt/chicm/data/retrieval/vectors'"
   ]
  },
  {
   "cell_type": "code",
   "execution_count": 6,
   "metadata": {},
   "outputs": [
    {
     "name": "stdout",
     "output_type": "stream",
     "text": [
      "data_check.py\r\n",
      "google_landmark_boxes_split1.csv\r\n",
      "google_landmark_boxes_split2.csv\r\n",
      "google-landmarks-dataset.zip\r\n",
      "index_clean.csv\r\n",
      "index.csv\r\n",
      "index_imgs\r\n",
      "index_imgs_256_crop\r\n",
      "index_imgs_256_nocrop\r\n",
      "landmark-retrieval-challenge-image-downloader.py\r\n",
      "models\r\n",
      "retrieval_sample_submission.csv\r\n",
      "retrieval_sample_submission.csv.zip\r\n",
      "test.csv\r\n",
      "train_clean.csv\r\n",
      "train_clean_invert.csv\r\n",
      "train.csv\r\n",
      "train_imgs\r\n",
      "train_imgs_256_crop\r\n",
      "vectors\r\n"
     ]
    }
   ],
   "source": [
    "!ls /mnt/chicm/data/retrieval"
   ]
  },
  {
   "cell_type": "code",
   "execution_count": 3,
   "metadata": {},
   "outputs": [
    {
     "name": "stdout",
     "output_type": "stream",
     "text": [
      "balanced_loader.py   post_process.ipynb\t\t  train_cls.py\r\n",
      "data_analysis.ipynb  __pycache__\t\t  train_retrieval.py\r\n",
      "ensemble.py\t     settings.py\t\t  triplet_loss.py\r\n",
      "loader.py\t     settings_retrieval.py\t  Untitled.ipynb\r\n",
      "loader_retrieval.py  sub_retrieval_global.csv\t  vec_pred.py\r\n",
      "models.py\t     sub_retrieval_local_224.csv  vector_search.ipynb\r\n",
      "net\t\t     sub_retrieval_local.csv\r\n",
      "output\t\t     test_faiss.py\r\n"
     ]
    }
   ],
   "source": [
    "!ls"
   ]
  },
  {
   "cell_type": "code",
   "execution_count": 9,
   "metadata": {},
   "outputs": [],
   "source": [
    "import pandas as pd\n",
    "import numpy as np\n",
    "import os"
   ]
  },
  {
   "cell_type": "code",
   "execution_count": 5,
   "metadata": {},
   "outputs": [
    {
     "data": {
      "text/html": [
       "<div>\n",
       "<style scoped>\n",
       "    .dataframe tbody tr th:only-of-type {\n",
       "        vertical-align: middle;\n",
       "    }\n",
       "\n",
       "    .dataframe tbody tr th {\n",
       "        vertical-align: top;\n",
       "    }\n",
       "\n",
       "    .dataframe thead th {\n",
       "        text-align: right;\n",
       "    }\n",
       "</style>\n",
       "<table border=\"1\" class=\"dataframe\">\n",
       "  <thead>\n",
       "    <tr style=\"text-align: right;\">\n",
       "      <th></th>\n",
       "      <th>id</th>\n",
       "      <th>images</th>\n",
       "    </tr>\n",
       "  </thead>\n",
       "  <tbody>\n",
       "    <tr>\n",
       "      <th>0</th>\n",
       "      <td>cb9998b8cdaf6235</td>\n",
       "      <td>8fbdf0fdc15d43d0 c13f8c34eed9bf03 861d88c5618b...</td>\n",
       "    </tr>\n",
       "    <tr>\n",
       "      <th>1</th>\n",
       "      <td>30728cf6e50a6bc6</td>\n",
       "      <td>554d72a10542c954 35c429a5639bd122 86d4b7c9bd0d...</td>\n",
       "    </tr>\n",
       "    <tr>\n",
       "      <th>2</th>\n",
       "      <td>16afbc86b710337d</td>\n",
       "      <td>6e614e272d1c596b 6ef3e2793082f236 16048dcf423c...</td>\n",
       "    </tr>\n",
       "    <tr>\n",
       "      <th>3</th>\n",
       "      <td>d29b2166cf522450</td>\n",
       "      <td>5bd2269c9fa1836b f1c445e4f7528f3c 953aafe3c53d...</td>\n",
       "    </tr>\n",
       "    <tr>\n",
       "      <th>4</th>\n",
       "      <td>dd5c03b20c21cfba</td>\n",
       "      <td>ec477e789504ebec 7c3b3512c332ffe6 e910b3a94e88...</td>\n",
       "    </tr>\n",
       "  </tbody>\n",
       "</table>\n",
       "</div>"
      ],
      "text/plain": [
       "                 id                                             images\n",
       "0  cb9998b8cdaf6235  8fbdf0fdc15d43d0 c13f8c34eed9bf03 861d88c5618b...\n",
       "1  30728cf6e50a6bc6  554d72a10542c954 35c429a5639bd122 86d4b7c9bd0d...\n",
       "2  16afbc86b710337d  6e614e272d1c596b 6ef3e2793082f236 16048dcf423c...\n",
       "3  d29b2166cf522450  5bd2269c9fa1836b f1c445e4f7528f3c 953aafe3c53d...\n",
       "4  dd5c03b20c21cfba  ec477e789504ebec 7c3b3512c332ffe6 e910b3a94e88..."
      ]
     },
     "execution_count": 5,
     "metadata": {},
     "output_type": "execute_result"
    }
   ],
   "source": [
    "df = pd.read_csv('sub_retrieval_local_224.csv')\n",
    "df.head()"
   ]
  },
  {
   "cell_type": "code",
   "execution_count": 14,
   "metadata": {},
   "outputs": [],
   "source": [
    "D = np.load(os.path.join(VECTOR_DIR,'D_tmp.npy'))\n",
    "I = np.load(os.path.join(VECTOR_DIR,'I_tmp.npy'))\n",
    "founds = np.load(os.path.join(VECTOR_DIR,'founds_tmp.npy'))"
   ]
  },
  {
   "cell_type": "code",
   "execution_count": 16,
   "metadata": {},
   "outputs": [
    {
     "name": "stdout",
     "output_type": "stream",
     "text": [
      "(117703, 100) (117703, 100) (117703,)\n"
     ]
    }
   ],
   "source": [
    "print(D.shape, I.shape, founds.shape)"
   ]
  },
  {
   "cell_type": "code",
   "execution_count": 21,
   "metadata": {},
   "outputs": [
    {
     "data": {
      "text/plain": [
       "113654"
      ]
     },
     "execution_count": 21,
     "metadata": {},
     "output_type": "execute_result"
    }
   ],
   "source": [
    "founds.sum()"
   ]
  },
  {
   "cell_type": "code",
   "execution_count": 44,
   "metadata": {},
   "outputs": [
    {
     "data": {
      "text/plain": [
       "array([0.5560349 , 0.62239635, 0.6441932 , 0.6630283 , 0.66942537,\n",
       "       0.6751373 , 0.67855716, 0.7255    , 0.73224676, 0.732486  ,\n",
       "       0.7419702 , 0.7430555 , 0.74581975, 0.74780256, 0.7550701 ,\n",
       "       0.758991  , 0.7608342 , 0.770538  , 0.77942264, 0.78043157,\n",
       "       0.79701835, 0.8007183 , 0.802832  , 0.80776733, 0.80864793,\n",
       "       0.8123764 , 0.81704044, 0.81935537, 0.8216411 , 0.8221303 ,\n",
       "       0.82614106, 0.82776976, 0.82814646, 0.82907665, 0.83221215,\n",
       "       0.8329355 , 0.8338907 , 0.84345025, 0.851492  , 0.86423266,\n",
       "       0.86433774, 0.8643615 , 0.8657383 , 0.8662136 , 0.86909103,\n",
       "       0.87063557, 0.8708782 , 0.87089515, 0.8717643 , 0.8740746 ,\n",
       "       0.8743501 , 0.8767405 , 0.87676644, 0.87987494, 0.88065964,\n",
       "       0.8813366 , 0.8824966 , 0.88353753, 0.88410604, 0.8855665 ,\n",
       "       0.8864686 , 0.8866177 , 0.8909532 , 0.8920526 , 0.89226973,\n",
       "       0.8973112 , 0.8978267 , 0.8981155 , 0.8982519 , 0.90100837,\n",
       "       0.9013191 , 0.9059922 , 0.9109571 , 0.9151891 , 0.9159276 ,\n",
       "       0.91725105, 0.9181948 , 0.91853863, 0.9210043 , 0.92252064,\n",
       "       0.92312366, 0.923144  , 0.9246671 , 0.9251667 , 0.92641   ,\n",
       "       0.9274887 , 0.92758   , 0.9284884 , 0.92870075, 0.92945296,\n",
       "       0.92958516, 0.9301731 , 0.9305108 , 0.9308922 , 0.9332557 ,\n",
       "       0.934232  , 0.93499374, 0.93527603, 0.9372992 , 0.93801534],\n",
       "      dtype=float32)"
      ]
     },
     "execution_count": 44,
     "metadata": {},
     "output_type": "execute_result"
    }
   ],
   "source": [
    "D[0]"
   ]
  },
  {
   "cell_type": "code",
   "execution_count": 47,
   "metadata": {},
   "outputs": [
    {
     "data": {
      "text/plain": [
       "0.7984033118060077"
      ]
     },
     "execution_count": 47,
     "metadata": {},
     "output_type": "execute_result"
    }
   ],
   "source": [
    "(D < 0.95).astype(np.int).sum() / (founds.sum()*100)"
   ]
  },
  {
   "cell_type": "code",
   "execution_count": 54,
   "metadata": {},
   "outputs": [
    {
     "data": {
      "text/plain": [
       "array([[ 1,  1,  1, ...,  1,  1,  1],\n",
       "       [ 1,  1,  1, ...,  1,  1,  1],\n",
       "       [ 1,  1,  1, ...,  1,  1,  1],\n",
       "       ...,\n",
       "       [ 1,  1,  1, ...,  1,  1,  1],\n",
       "       [ 1,  1,  1, ...,  1,  1,  1],\n",
       "       [ 1,  1,  1, ..., -1, -1, -1]])"
      ]
     },
     "execution_count": 54,
     "metadata": {},
     "output_type": "execute_result"
    }
   ],
   "source": [
    "mask = (D < 0.95).astype(np.int) * 2 -1\n",
    "mask"
   ]
  },
  {
   "cell_type": "code",
   "execution_count": 55,
   "metadata": {},
   "outputs": [
    {
     "data": {
      "text/plain": [
       "array([[ 667223,  405901,  304051, ...,  437706,  297139, 1054689],\n",
       "       [ 305850,  497403,  864256, ...,  379490,  877845, 1021062],\n",
       "       [  49115,  528221,  317172, ...,  216663,  378081,  784542],\n",
       "       ...,\n",
       "       [ 403619,  801594, 1004942, ..., 1045029,  892743,   85734],\n",
       "       [1004508,  674546,  218285, ...,  513460,  920840,  358819],\n",
       "       [ 820508,  809818,  672685, ..., -516134, -534883, -306407]])"
      ]
     },
     "execution_count": 55,
     "metadata": {},
     "output_type": "execute_result"
    }
   ],
   "source": [
    "maskedI = I * mask\n",
    "maskedI"
   ]
  },
  {
   "cell_type": "code",
   "execution_count": 61,
   "metadata": {},
   "outputs": [
    {
     "data": {
      "text/plain": [
       "(117703, 100)"
      ]
     },
     "execution_count": 61,
     "metadata": {},
     "output_type": "execute_result"
    }
   ],
   "source": [
    "maskedI.shape"
   ]
  },
  {
   "cell_type": "code",
   "execution_count": 58,
   "metadata": {},
   "outputs": [],
   "source": [
    "import settings\n",
    "import settings_retrieval"
   ]
  },
  {
   "cell_type": "code",
   "execution_count": 69,
   "metadata": {},
   "outputs": [],
   "source": [
    "def create_retrieval_submission(I, founds, outfile):\n",
    "    df = pd.read_csv(os.path.join(settings_retrieval.DATA_DIR, 'index_clean.csv'))\n",
    "    meta = pd.read_csv(os.path.join(settings.DATA_DIR, 'test', 'test.csv'))  # use same test data as recognition\n",
    "\n",
    "    labels = [' '.join([str(i) for i in df.iloc[np.extract(x>=0, x)].id.values]) for x in I]\n",
    "\n",
    "    for i in range(len(labels)):\n",
    "        if founds[i] == 0:\n",
    "            labels[i] = ''\n",
    "\n",
    "    meta['images'] = labels\n",
    "    meta.to_csv(outfile, index=False, columns=['id', 'images'])"
   ]
  },
  {
   "cell_type": "code",
   "execution_count": 70,
   "metadata": {},
   "outputs": [],
   "source": [
    "create_retrieval_submission(maskedI, founds, 'sub_retrieval_cut_095.csv')"
   ]
  },
  {
   "cell_type": "code",
   "execution_count": 62,
   "metadata": {},
   "outputs": [],
   "source": [
    "df_tmp = pd.read_csv(os.path.join(settings_retrieval.DATA_DIR, 'index_clean.csv'))"
   ]
  },
  {
   "cell_type": "code",
   "execution_count": 66,
   "metadata": {},
   "outputs": [
    {
     "data": {
      "text/plain": [
       "array([0, 1, 0, 1])"
      ]
     },
     "execution_count": 66,
     "metadata": {},
     "output_type": "execute_result"
    }
   ],
   "source": [
    "np.extract(np.array([[-1, 0, 1],[-1, 0, 1]])>=0, [[-1, 0, 1],[-1, 0, 1]])"
   ]
  },
  {
   "cell_type": "code",
   "execution_count": null,
   "metadata": {},
   "outputs": [],
   "source": []
  },
  {
   "cell_type": "code",
   "execution_count": 27,
   "metadata": {},
   "outputs": [],
   "source": [
    "# ransac \n",
    "from skimage.measure import ransac\n",
    "from skimage.transform import warp, AffineTransform"
   ]
  },
  {
   "cell_type": "code",
   "execution_count": 41,
   "metadata": {},
   "outputs": [
    {
     "data": {
      "text/plain": [
       "(30, 2)"
      ]
     },
     "execution_count": 41,
     "metadata": {},
     "output_type": "execute_result"
    }
   ],
   "source": [
    "src = np.random.normal(size=(30, 2))\n",
    "dst = np.random.normal(size=(30, 2)) + np.random.normal(size=(30, 2))\n",
    "src.shape"
   ]
  },
  {
   "cell_type": "code",
   "execution_count": 42,
   "metadata": {},
   "outputs": [],
   "source": [
    "\n",
    "model_robust, inliers = ransac((src, dst), AffineTransform, min_samples=3,\n",
    "                               residual_threshold=3, max_trials=100)"
   ]
  },
  {
   "cell_type": "code",
   "execution_count": 43,
   "metadata": {},
   "outputs": [
    {
     "data": {
      "text/plain": [
       "array([ True,  True,  True,  True,  True,  True,  True, False,  True,\n",
       "        True,  True,  True,  True,  True,  True,  True,  True,  True,\n",
       "        True, False,  True,  True,  True,  True,  True,  True,  True,\n",
       "        True,  True,  True])"
      ]
     },
     "execution_count": 43,
     "metadata": {},
     "output_type": "execute_result"
    }
   ],
   "source": [
    "inliers"
   ]
  },
  {
   "cell_type": "code",
   "execution_count": null,
   "metadata": {},
   "outputs": [],
   "source": []
  }
 ],
 "metadata": {
  "kernelspec": {
   "display_name": "Python 3",
   "language": "python",
   "name": "python3"
  },
  "language_info": {
   "codemirror_mode": {
    "name": "ipython",
    "version": 3
   },
   "file_extension": ".py",
   "mimetype": "text/x-python",
   "name": "python",
   "nbconvert_exporter": "python",
   "pygments_lexer": "ipython3",
   "version": "3.6.7"
  }
 },
 "nbformat": 4,
 "nbformat_minor": 2
}
