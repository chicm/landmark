{
 "cells": [
  {
   "cell_type": "code",
   "execution_count": 2,
   "metadata": {},
   "outputs": [
    {
     "name": "stdout",
     "output_type": "stream",
     "text": [
      "D_tmp.npy\t\t\t\t\t\t founds_tmp.npy\r\n",
      "FeatureNet_se_resnext50_32x4d.index_retrieval\t\t global_noresize\r\n",
      "FeatureNetV2_se_resnext50_32x4d.index_retrieval_2\t I_tmp.npy\r\n",
      "FeatureNetV2_se_resnext50_32x4d.index_retrieval_2_local  local\r\n"
     ]
    }
   ],
   "source": [
    "!ls /mnt/chicm/data/retrieval/vectors"
   ]
  },
  {
   "cell_type": "code",
   "execution_count": 8,
   "metadata": {},
   "outputs": [],
   "source": [
    "VECTOR_DIR = '/mnt/chicm/data/retrieval/vectors'"
   ]
  },
  {
   "cell_type": "code",
   "execution_count": 6,
   "metadata": {},
   "outputs": [
    {
     "name": "stdout",
     "output_type": "stream",
     "text": [
      "data_check.py\r\n",
      "google_landmark_boxes_split1.csv\r\n",
      "google_landmark_boxes_split2.csv\r\n",
      "google-landmarks-dataset.zip\r\n",
      "index_clean.csv\r\n",
      "index.csv\r\n",
      "index_imgs\r\n",
      "index_imgs_256_crop\r\n",
      "index_imgs_256_nocrop\r\n",
      "landmark-retrieval-challenge-image-downloader.py\r\n",
      "models\r\n",
      "retrieval_sample_submission.csv\r\n",
      "retrieval_sample_submission.csv.zip\r\n",
      "test.csv\r\n",
      "train_clean.csv\r\n",
      "train_clean_invert.csv\r\n",
      "train.csv\r\n",
      "train_imgs\r\n",
      "train_imgs_256_crop\r\n",
      "vectors\r\n"
     ]
    }
   ],
   "source": [
    "!ls /mnt/chicm/data/retrieval"
   ]
  },
  {
   "cell_type": "code",
   "execution_count": 3,
   "metadata": {},
   "outputs": [
    {
     "name": "stdout",
     "output_type": "stream",
     "text": [
      "balanced_loader.py   post_process.ipynb\t\t  train_cls.py\r\n",
      "data_analysis.ipynb  __pycache__\t\t  train_retrieval.py\r\n",
      "ensemble.py\t     settings.py\t\t  triplet_loss.py\r\n",
      "loader.py\t     settings_retrieval.py\t  Untitled.ipynb\r\n",
      "loader_retrieval.py  sub_retrieval_global.csv\t  vec_pred.py\r\n",
      "models.py\t     sub_retrieval_local_224.csv  vector_search.ipynb\r\n",
      "net\t\t     sub_retrieval_local.csv\r\n",
      "output\t\t     test_faiss.py\r\n"
     ]
    }
   ],
   "source": [
    "!ls"
   ]
  },
  {
   "cell_type": "code",
   "execution_count": 9,
   "metadata": {},
   "outputs": [],
   "source": [
    "import pandas as pd\n",
    "import numpy as np\n",
    "import os"
   ]
  },
  {
   "cell_type": "code",
   "execution_count": 5,
   "metadata": {},
   "outputs": [
    {
     "data": {
      "text/html": [
       "<div>\n",
       "<style scoped>\n",
       "    .dataframe tbody tr th:only-of-type {\n",
       "        vertical-align: middle;\n",
       "    }\n",
       "\n",
       "    .dataframe tbody tr th {\n",
       "        vertical-align: top;\n",
       "    }\n",
       "\n",
       "    .dataframe thead th {\n",
       "        text-align: right;\n",
       "    }\n",
       "</style>\n",
       "<table border=\"1\" class=\"dataframe\">\n",
       "  <thead>\n",
       "    <tr style=\"text-align: right;\">\n",
       "      <th></th>\n",
       "      <th>id</th>\n",
       "      <th>images</th>\n",
       "    </tr>\n",
       "  </thead>\n",
       "  <tbody>\n",
       "    <tr>\n",
       "      <th>0</th>\n",
       "      <td>cb9998b8cdaf6235</td>\n",
       "      <td>8fbdf0fdc15d43d0 c13f8c34eed9bf03 861d88c5618b...</td>\n",
       "    </tr>\n",
       "    <tr>\n",
       "      <th>1</th>\n",
       "      <td>30728cf6e50a6bc6</td>\n",
       "      <td>554d72a10542c954 35c429a5639bd122 86d4b7c9bd0d...</td>\n",
       "    </tr>\n",
       "    <tr>\n",
       "      <th>2</th>\n",
       "      <td>16afbc86b710337d</td>\n",
       "      <td>6e614e272d1c596b 6ef3e2793082f236 16048dcf423c...</td>\n",
       "    </tr>\n",
       "    <tr>\n",
       "      <th>3</th>\n",
       "      <td>d29b2166cf522450</td>\n",
       "      <td>5bd2269c9fa1836b f1c445e4f7528f3c 953aafe3c53d...</td>\n",
       "    </tr>\n",
       "    <tr>\n",
       "      <th>4</th>\n",
       "      <td>dd5c03b20c21cfba</td>\n",
       "      <td>ec477e789504ebec 7c3b3512c332ffe6 e910b3a94e88...</td>\n",
       "    </tr>\n",
       "  </tbody>\n",
       "</table>\n",
       "</div>"
      ],
      "text/plain": [
       "                 id                                             images\n",
       "0  cb9998b8cdaf6235  8fbdf0fdc15d43d0 c13f8c34eed9bf03 861d88c5618b...\n",
       "1  30728cf6e50a6bc6  554d72a10542c954 35c429a5639bd122 86d4b7c9bd0d...\n",
       "2  16afbc86b710337d  6e614e272d1c596b 6ef3e2793082f236 16048dcf423c...\n",
       "3  d29b2166cf522450  5bd2269c9fa1836b f1c445e4f7528f3c 953aafe3c53d...\n",
       "4  dd5c03b20c21cfba  ec477e789504ebec 7c3b3512c332ffe6 e910b3a94e88..."
      ]
     },
     "execution_count": 5,
     "metadata": {},
     "output_type": "execute_result"
    }
   ],
   "source": [
    "df = pd.read_csv('sub_retrieval_local_224.csv')\n",
    "df.head()"
   ]
  },
  {
   "cell_type": "code",
   "execution_count": 14,
   "metadata": {},
   "outputs": [],
   "source": [
    "D = np.load(os.path.join(VECTOR_DIR,'D_tmp.npy'))\n",
    "I = np.load(os.path.join(VECTOR_DIR,'I_tmp.npy'))\n",
    "founds = np.load(os.path.join(VECTOR_DIR,'founds_tmp.npy'))"
   ]
  },
  {
   "cell_type": "code",
   "execution_count": 16,
   "metadata": {},
   "outputs": [
    {
     "name": "stdout",
     "output_type": "stream",
     "text": [
      "(117703, 100) (117703, 100) (117703,)\n"
     ]
    }
   ],
   "source": [
    "print(D.shape, I.shape, founds.shape)"
   ]
  },
  {
   "cell_type": "code",
   "execution_count": 21,
   "metadata": {},
   "outputs": [
    {
     "data": {
      "text/plain": [
       "113654"
      ]
     },
     "execution_count": 21,
     "metadata": {},
     "output_type": "execute_result"
    }
   ],
   "source": [
    "founds.sum()"
   ]
  },
  {
   "cell_type": "code",
   "execution_count": 17,
   "metadata": {},
   "outputs": [
    {
     "data": {
      "text/plain": [
       "array([[0.5560349 , 0.62239635, 0.6441932 , ..., 0.770538  , 0.77942264,\n",
       "        0.78043157],\n",
       "       [0.66416156, 0.6744206 , 0.68131053, ..., 0.7814772 , 0.79021317,\n",
       "        0.7983449 ],\n",
       "       [0.4138669 , 0.41583392, 0.4167589 , ..., 0.45789272, 0.45860386,\n",
       "        0.46000338],\n",
       "       ...,\n",
       "       [0.57433796, 0.5844395 , 0.61139464, ..., 0.69382286, 0.6974598 ,\n",
       "        0.6990245 ],\n",
       "       [0.59440094, 0.60484093, 0.6299298 , ..., 0.7195863 , 0.72283566,\n",
       "        0.7265586 ],\n",
       "       [0.6880363 , 0.70990634, 0.7295761 , ..., 0.91901916, 0.91946876,\n",
       "        0.92393714]], dtype=float32)"
      ]
     },
     "execution_count": 17,
     "metadata": {},
     "output_type": "execute_result"
    }
   ],
   "source": [
    "D[:, :20]"
   ]
  },
  {
   "cell_type": "code",
   "execution_count": 24,
   "metadata": {},
   "outputs": [
    {
     "data": {
      "text/plain": [
       "0.5241426610590036"
      ]
     },
     "execution_count": 24,
     "metadata": {},
     "output_type": "execute_result"
    }
   ],
   "source": [
    "(D < 0.8).astype(np.int).sum() / (founds.sum()*100)"
   ]
  },
  {
   "cell_type": "code",
   "execution_count": 27,
   "metadata": {},
   "outputs": [],
   "source": [
    "# ransac \n",
    "from skimage.measure import ransac\n",
    "from skimage.transform import warp, AffineTransform"
   ]
  },
  {
   "cell_type": "code",
   "execution_count": 41,
   "metadata": {},
   "outputs": [
    {
     "data": {
      "text/plain": [
       "(30, 2)"
      ]
     },
     "execution_count": 41,
     "metadata": {},
     "output_type": "execute_result"
    }
   ],
   "source": [
    "src = np.random.normal(size=(30, 2))\n",
    "dst = np.random.normal(size=(30, 2)) + np.random.normal(size=(30, 2))\n",
    "src.shape"
   ]
  },
  {
   "cell_type": "code",
   "execution_count": 42,
   "metadata": {},
   "outputs": [],
   "source": [
    "\n",
    "model_robust, inliers = ransac((src, dst), AffineTransform, min_samples=3,\n",
    "                               residual_threshold=3, max_trials=100)"
   ]
  },
  {
   "cell_type": "code",
   "execution_count": 43,
   "metadata": {},
   "outputs": [
    {
     "data": {
      "text/plain": [
       "array([ True,  True,  True,  True,  True,  True,  True, False,  True,\n",
       "        True,  True,  True,  True,  True,  True,  True,  True,  True,\n",
       "        True, False,  True,  True,  True,  True,  True,  True,  True,\n",
       "        True,  True,  True])"
      ]
     },
     "execution_count": 43,
     "metadata": {},
     "output_type": "execute_result"
    }
   ],
   "source": [
    "inliers"
   ]
  },
  {
   "cell_type": "code",
   "execution_count": null,
   "metadata": {},
   "outputs": [],
   "source": []
  }
 ],
 "metadata": {
  "kernelspec": {
   "display_name": "Python 3",
   "language": "python",
   "name": "python3"
  },
  "language_info": {
   "codemirror_mode": {
    "name": "ipython",
    "version": 3
   },
   "file_extension": ".py",
   "mimetype": "text/x-python",
   "name": "python",
   "nbconvert_exporter": "python",
   "pygments_lexer": "ipython3",
   "version": "3.6.7"
  }
 },
 "nbformat": 4,
 "nbformat_minor": 2
}
